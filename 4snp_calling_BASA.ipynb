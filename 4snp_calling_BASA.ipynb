{
 "cells": [
  {
   "cell_type": "code",
   "execution_count": 13,
   "metadata": {},
   "outputs": [],
   "source": [
    "!source activate py36"
   ]
  },
  {
   "cell_type": "code",
   "execution_count": 14,
   "metadata": {},
   "outputs": [],
   "source": [
    "import sys\n",
    "\n",
    "sys.path.append('/home/faske/g/anaconda3/envs/py36/lib/python3.6/site-packages')\n",
    "sys.path.append(\"/home/faske/g/ipynb/include_utils\")\n",
    "\n",
    "import ipyparallel as ipp\n",
    "import os, time\n",
    "import include_utils as u\n",
    "import pandas as pd\n",
    "import numpy as np\n",
    "import scipy as sp\n",
    "import numbers\n",
    "import matplotlib.pyplot as plt\n",
    "import matplotlib.patches as mpatches\n",
    "import matplotlib.cm as cm\n",
    "import matplotlib.colors as mcolors\n",
    "#import vcf\n",
    "from sklearn import preprocessing\n",
    "from subprocess import Popen, PIPE, call, check_output\n",
    "import seaborn as sns\n",
    "from IPython.display import FileLink\n",
    "import urllib.request as urllib2\n",
    "import dill\n",
    "import traceback\n",
    "from pandas import Series, DataFrame\n",
    "import gzip\n",
    "import warnings\n",
    "warnings.filterwarnings('ignore',category=pd.io.pytables.PerformanceWarning)\n",
    "%config InlineBackend.figure_format = 'retina'\n",
    "from Bio import SeqIO\n",
    "#import pysam\n",
    "from collections import OrderedDict, namedtuple, Counter\n",
    "import operator\n",
    "import multiprocessing as mp\n",
    "import shutil\n",
    "import tempfile\n",
    "#from ipyparallel import Client\n",
    "import scandir\n",
    "import glob\n",
    "from Bio.SeqIO.QualityIO import FastqGeneralIterator\n",
    "import pickle\n",
    "#import Levenshtein as lv"
   ]
  },
  {
   "cell_type": "code",
   "execution_count": 15,
   "metadata": {},
   "outputs": [],
   "source": [
    "snp_dir = \"/home/faske/g/balsam/SNPcall\""
   ]
  },
  {
   "cell_type": "code",
   "execution_count": 16,
   "metadata": {
    "ExecuteTime": {}
   },
   "outputs": [],
   "source": [
    "bowtie_dir = \"/home/faske/g/balsam/SNPcall/bowtie2\""
   ]
  },
  {
   "cell_type": "code",
   "execution_count": 17,
   "metadata": {},
   "outputs": [
    {
     "name": "stdout",
     "output_type": "stream",
     "text": [
      "/working/tfaske/balsam/SNPcall/bowtie2\n"
     ]
    }
   ],
   "source": [
    "cd $bowtie_dir"
   ]
  },
  {
   "cell_type": "code",
   "execution_count": 18,
   "metadata": {
    "ExecuteTime": {}
   },
   "outputs": [],
   "source": [
    "bam_files = []\n",
    "files = !find . -type f -name '*sorted.bam'\n",
    "files = [os.path.abspath(x) for x in files if 'bam' in x]\n",
    "for x in files:\n",
    "    bam_files.append(x)\n",
    "bam_files = sorted(bam_files)"
   ]
  },
  {
   "cell_type": "code",
   "execution_count": 19,
   "metadata": {
    "ExecuteTime": {}
   },
   "outputs": [
    {
     "data": {
      "text/plain": [
       "(373, '/working/tfaske/balsam/SNPcall/bowtie2/BS_AN_1.F.fq.gz_sorted.bam')"
      ]
     },
     "execution_count": 19,
     "metadata": {},
     "output_type": "execute_result"
    }
   ],
   "source": [
    "len(bam_files), bam_files[0]"
   ]
  },
  {
   "cell_type": "code",
   "execution_count": 20,
   "metadata": {
    "ExecuteTime": {}
   },
   "outputs": [],
   "source": [
    "samtools = \"samtools\"\n",
    "bcftools = \"bcftools\"\n",
    "java = \"java\"\n",
    "perl = \"perl\"\n",
    "#perl = \"/home/cfriedline/gpfs/opt/ActivePerl-5.18/bin/perl\""
   ]
  },
  {
   "cell_type": "code",
   "execution_count": 21,
   "metadata": {
    "ExecuteTime": {}
   },
   "outputs": [],
   "source": [
    "assembly = \"/home/faske/g/balsam/assembly/reference.fasta\"\n",
    "\n",
    "#indexed as: bowtie2-build --threads 10 -f reference.fasta reference.fasta"
   ]
  },
  {
   "cell_type": "code",
   "execution_count": 22,
   "metadata": {
    "ExecuteTime": {}
   },
   "outputs": [],
   "source": [
    "!$samtools faidx {assembly}"
   ]
  },
  {
   "cell_type": "markdown",
   "metadata": {},
   "source": [
    "# Calculates coverage from bam_files\n",
    "also outputs a file called \"bam_coverage.csv\" in the bam folder"
   ]
  },
  {
   "cell_type": "markdown",
   "metadata": {},
   "source": [
    "# Did not run fully as it is hard to assess with a full genome\n",
    "    skip to snp call "
   ]
  },
  {
   "cell_type": "code",
   "execution_count": 23,
   "metadata": {},
   "outputs": [
    {
     "name": "stdout",
     "output_type": "stream",
     "text": [
      "/working/tfaske/balsam/SNPcall/bowtie2\n"
     ]
    }
   ],
   "source": [
    "cd $bowtie_dir"
   ]
  },
  {
   "cell_type": "code",
   "execution_count": 24,
   "metadata": {},
   "outputs": [],
   "source": [
    "bam_files = []\n",
    "files = !find . -type f -name '*sorted.bam'\n",
    "files = [os.path.abspath(x) for x in files if 'bam' in x]\n",
    "for x in files:\n",
    "    bam_files.append(x)\n",
    "bam_files = sorted(bam_files)"
   ]
  },
  {
   "cell_type": "code",
   "execution_count": 25,
   "metadata": {},
   "outputs": [
    {
     "data": {
      "text/plain": [
       "(373, '/working/tfaske/balsam/SNPcall/bowtie2/BS_AN_1.F.fq.gz_sorted.bam')"
      ]
     },
     "execution_count": 25,
     "metadata": {},
     "output_type": "execute_result"
    }
   ],
   "source": [
    "len(bam_files), bam_files[0]"
   ]
  },
  {
   "cell_type": "code",
   "execution_count": 27,
   "metadata": {},
   "outputs": [
    {
     "name": "stdout",
     "output_type": "stream",
     "text": [
      "/working/tfaske/balsam/SNPcall/bowtie2/BS_AN_1.F.fq.gz_sorted.bam\n",
      "27.557045123641153 BS_AN_1\n",
      "/working/tfaske/balsam/SNPcall/bowtie2/BS_AN_10.F.fq.gz_sorted.bam\n",
      "25.85151947340451 BS_AN_10\n",
      "/working/tfaske/balsam/SNPcall/bowtie2/BS_AN_11.F.fq.gz_sorted.bam\n",
      "24.67785277250382 BS_AN_11\n",
      "/working/tfaske/balsam/SNPcall/bowtie2/BS_AN_12.F.fq.gz_sorted.bam\n",
      "23.896954317424065 BS_AN_12\n",
      "/working/tfaske/balsam/SNPcall/bowtie2/BS_AN_2.F.fq.gz_sorted.bam\n",
      "34.56684358505273 BS_AN_2\n",
      "/working/tfaske/balsam/SNPcall/bowtie2/BS_AN_3.F.fq.gz_sorted.bam\n",
      "25.90125243170679 BS_AN_3\n",
      "/working/tfaske/balsam/SNPcall/bowtie2/BS_AN_4.F.fq.gz_sorted.bam\n",
      "27.45409478760834 BS_AN_4\n",
      "/working/tfaske/balsam/SNPcall/bowtie2/BS_AN_5.F.fq.gz_sorted.bam\n",
      "22.84919828385814 BS_AN_5\n",
      "/working/tfaske/balsam/SNPcall/bowtie2/BS_AN_6.F.fq.gz_sorted.bam\n",
      "24.199088709689757 BS_AN_6\n",
      "/working/tfaske/balsam/SNPcall/bowtie2/BS_AN_7.F.fq.gz_sorted.bam\n",
      "29.144103356120837 BS_AN_7\n",
      "/working/tfaske/balsam/SNPcall/bowtie2/BS_AN_8.F.fq.gz_sorted.bam\n",
      "33.11181013134632 BS_AN_8\n",
      "/working/tfaske/balsam/SNPcall/bowtie2/BS_AN_9.F.fq.gz_sorted.bam\n",
      "27.795454413644826 BS_AN_9\n",
      "/working/tfaske/balsam/SNPcall/bowtie2/BS_AS_1.F.fq.gz_sorted.bam\n",
      "35.31967533958716 BS_AS_1\n",
      "/working/tfaske/balsam/SNPcall/bowtie2/BS_AS_10.F.fq.gz_sorted.bam\n",
      "23.863414292397476 BS_AS_10\n",
      "/working/tfaske/balsam/SNPcall/bowtie2/BS_AS_11.F.fq.gz_sorted.bam\n",
      "27.39260259970498 BS_AS_11\n",
      "/working/tfaske/balsam/SNPcall/bowtie2/BS_AS_12.F.fq.gz_sorted.bam\n",
      "22.380461545213084 BS_AS_12\n",
      "/working/tfaske/balsam/SNPcall/bowtie2/BS_AS_2.F.fq.gz_sorted.bam\n",
      "1.4913861648555526 BS_AS_2\n",
      "/working/tfaske/balsam/SNPcall/bowtie2/BS_AS_3.F.fq.gz_sorted.bam\n",
      "25.23530678681537 BS_AS_3\n",
      "/working/tfaske/balsam/SNPcall/bowtie2/BS_AS_4.F.fq.gz_sorted.bam\n",
      "27.41675743812358 BS_AS_4\n",
      "/working/tfaske/balsam/SNPcall/bowtie2/BS_AS_5.F.fq.gz_sorted.bam\n",
      "29.232279756747946 BS_AS_5\n",
      "/working/tfaske/balsam/SNPcall/bowtie2/BS_AS_6.F.fq.gz_sorted.bam\n",
      "22.378895034594724 BS_AS_6\n",
      "/working/tfaske/balsam/SNPcall/bowtie2/BS_AS_7.F.fq.gz_sorted.bam\n",
      "28.031065711211227 BS_AS_7\n",
      "/working/tfaske/balsam/SNPcall/bowtie2/BS_AS_8.F.fq.gz_sorted.bam\n",
      "25.371148002820984 BS_AS_8\n",
      "/working/tfaske/balsam/SNPcall/bowtie2/BS_AS_9.F.fq.gz_sorted.bam\n",
      "28.35060906521292 BS_AS_9\n",
      "/working/tfaske/balsam/SNPcall/bowtie2/BS_BB_1.F.fq.gz_sorted.bam\n",
      "17.41420158641729 BS_BB_1\n",
      "/working/tfaske/balsam/SNPcall/bowtie2/BS_BB_10.F.fq.gz_sorted.bam\n",
      "21.358586919698045 BS_BB_10\n",
      "/working/tfaske/balsam/SNPcall/bowtie2/BS_BB_11.F.fq.gz_sorted.bam\n",
      "22.251691793526394 BS_BB_11\n",
      "/working/tfaske/balsam/SNPcall/bowtie2/BS_BB_12.F.fq.gz_sorted.bam\n",
      "26.34386474356303 BS_BB_12\n",
      "/working/tfaske/balsam/SNPcall/bowtie2/BS_BB_2.F.fq.gz_sorted.bam\n",
      "29.079631644331347 BS_BB_2\n",
      "/working/tfaske/balsam/SNPcall/bowtie2/BS_BB_3.F.fq.gz_sorted.bam\n",
      "23.76367894374441 BS_BB_3\n",
      "/working/tfaske/balsam/SNPcall/bowtie2/BS_BB_4.F.fq.gz_sorted.bam\n",
      "20.731619914575557 BS_BB_4\n",
      "/working/tfaske/balsam/SNPcall/bowtie2/BS_BB_5.F.fq.gz_sorted.bam\n",
      "26.904300194355304 BS_BB_5\n",
      "/working/tfaske/balsam/SNPcall/bowtie2/BS_BB_6.F.fq.gz_sorted.bam\n",
      "22.11520723851278 BS_BB_6\n",
      "/working/tfaske/balsam/SNPcall/bowtie2/BS_BB_7.F.fq.gz_sorted.bam\n",
      "23.36401218974461 BS_BB_7\n",
      "/working/tfaske/balsam/SNPcall/bowtie2/BS_BB_8.F.fq.gz_sorted.bam\n",
      "15.351467067727702 BS_BB_8\n",
      "/working/tfaske/balsam/SNPcall/bowtie2/BS_BB_9.F.fq.gz_sorted.bam\n",
      "22.31860893805181 BS_BB_9\n",
      "/working/tfaske/balsam/SNPcall/bowtie2/BS_BH_1.F.fq.gz_sorted.bam\n",
      "27.85817469361829 BS_BH_1\n",
      "/working/tfaske/balsam/SNPcall/bowtie2/BS_BH_10.F.fq.gz_sorted.bam\n",
      "19.51565426109835 BS_BH_10\n",
      "/working/tfaske/balsam/SNPcall/bowtie2/BS_BH_11.F.fq.gz_sorted.bam\n",
      "19.829858534795548 BS_BH_11\n",
      "/working/tfaske/balsam/SNPcall/bowtie2/BS_BH_12.F.fq.gz_sorted.bam\n",
      "18.127747506117142 BS_BH_12\n",
      "/working/tfaske/balsam/SNPcall/bowtie2/BS_BH_2.F.fq.gz_sorted.bam\n",
      "18.658829876504868 BS_BH_2\n",
      "/working/tfaske/balsam/SNPcall/bowtie2/BS_BH_3.F.fq.gz_sorted.bam\n",
      "33.30277156961584 BS_BH_3\n",
      "/working/tfaske/balsam/SNPcall/bowtie2/BS_BH_4.F.fq.gz_sorted.bam\n",
      "18.553760278830243 BS_BH_4\n",
      "/working/tfaske/balsam/SNPcall/bowtie2/BS_BH_5.F.fq.gz_sorted.bam\n",
      "25.96729420333195 BS_BH_5\n",
      "/working/tfaske/balsam/SNPcall/bowtie2/BS_BH_6.F.fq.gz_sorted.bam\n",
      "25.168611682997575 BS_BH_6\n",
      "/working/tfaske/balsam/SNPcall/bowtie2/BS_BH_7.F.fq.gz_sorted.bam\n",
      "17.521993510243174 BS_BH_7\n",
      "/working/tfaske/balsam/SNPcall/bowtie2/BS_BH_8.F.fq.gz_sorted.bam\n",
      "23.03963130070147 BS_BH_8\n",
      "/working/tfaske/balsam/SNPcall/bowtie2/BS_BH_9.F.fq.gz_sorted.bam\n",
      "24.457072944002768 BS_BH_9\n",
      "/working/tfaske/balsam/SNPcall/bowtie2/BS_CC_1.F.fq.gz_sorted.bam\n",
      "21.289031732405306 BS_CC_1\n",
      "/working/tfaske/balsam/SNPcall/bowtie2/BS_CC_10.F.fq.gz_sorted.bam\n",
      "33.48178669004736 BS_CC_10\n",
      "/working/tfaske/balsam/SNPcall/bowtie2/BS_CC_11.F.fq.gz_sorted.bam\n",
      "32.01729222626898 BS_CC_11\n",
      "/working/tfaske/balsam/SNPcall/bowtie2/BS_CC_12.F.fq.gz_sorted.bam\n",
      "20.62728917782882 BS_CC_12\n",
      "/working/tfaske/balsam/SNPcall/bowtie2/BS_CC_2.F.fq.gz_sorted.bam\n",
      "26.419262532204616 BS_CC_2\n",
      "/working/tfaske/balsam/SNPcall/bowtie2/BS_CC_3.F.fq.gz_sorted.bam\n",
      "23.163562793300486 BS_CC_3\n",
      "/working/tfaske/balsam/SNPcall/bowtie2/BS_CC_4.F.fq.gz_sorted.bam\n",
      "23.542572364521693 BS_CC_4\n",
      "/working/tfaske/balsam/SNPcall/bowtie2/BS_CC_5.F.fq.gz_sorted.bam\n",
      "26.047904496036033 BS_CC_5\n",
      "/working/tfaske/balsam/SNPcall/bowtie2/BS_CC_6.F.fq.gz_sorted.bam\n",
      "26.44707900250921 BS_CC_6\n",
      "/working/tfaske/balsam/SNPcall/bowtie2/BS_CC_7.F.fq.gz_sorted.bam\n",
      "24.649056787932317 BS_CC_7\n",
      "/working/tfaske/balsam/SNPcall/bowtie2/BS_CC_8.F.fq.gz_sorted.bam\n",
      "23.574624130069893 BS_CC_8\n",
      "/working/tfaske/balsam/SNPcall/bowtie2/BS_CC_9.F.fq.gz_sorted.bam\n",
      "20.732908833107622 BS_CC_9\n",
      "/working/tfaske/balsam/SNPcall/bowtie2/BS_CF_1.F.fq.gz_sorted.bam\n",
      "22.666853830938926 BS_CF_1\n",
      "/working/tfaske/balsam/SNPcall/bowtie2/BS_CF_11.F.fq.gz_sorted.bam\n",
      "21.247669336521973 BS_CF_11\n",
      "/working/tfaske/balsam/SNPcall/bowtie2/BS_CF_2.F.fq.gz_sorted.bam\n",
      "19.969173059860015 BS_CF_2\n",
      "/working/tfaske/balsam/SNPcall/bowtie2/BS_CF_3.F.fq.gz_sorted.bam\n",
      "31.437284885165486 BS_CF_3\n",
      "/working/tfaske/balsam/SNPcall/bowtie2/BS_CF_4.F.fq.gz_sorted.bam\n",
      "24.006680218154433 BS_CF_4\n",
      "/working/tfaske/balsam/SNPcall/bowtie2/BS_CF_5.F.fq.gz_sorted.bam\n",
      "19.942805321357852 BS_CF_5\n",
      "/working/tfaske/balsam/SNPcall/bowtie2/BS_CF_7.F.fq.gz_sorted.bam\n",
      "26.61095757088678 BS_CF_7\n",
      "/working/tfaske/balsam/SNPcall/bowtie2/BS_CF_8.F.fq.gz_sorted.bam\n",
      "28.966475188260283 BS_CF_8\n",
      "/working/tfaske/balsam/SNPcall/bowtie2/BS_CF_9.F.fq.gz_sorted.bam\n",
      "22.37349231614431 BS_CF_9\n",
      "/working/tfaske/balsam/SNPcall/bowtie2/BS_CL_1.F.fq.gz_sorted.bam\n",
      "18.786302851339013 BS_CL_1\n",
      "/working/tfaske/balsam/SNPcall/bowtie2/BS_CL_10.F.fq.gz_sorted.bam\n",
      "24.896807933391223 BS_CL_10\n",
      "/working/tfaske/balsam/SNPcall/bowtie2/BS_CL_11.F.fq.gz_sorted.bam\n",
      "29.136953537455717 BS_CL_11\n",
      "/working/tfaske/balsam/SNPcall/bowtie2/BS_CL_12.F.fq.gz_sorted.bam\n",
      "31.69814917738471 BS_CL_12\n",
      "/working/tfaske/balsam/SNPcall/bowtie2/BS_CL_2.F.fq.gz_sorted.bam\n",
      "34.660631163088375 BS_CL_2\n",
      "/working/tfaske/balsam/SNPcall/bowtie2/BS_CL_3.F.fq.gz_sorted.bam\n",
      "26.945142636116625 BS_CL_3\n",
      "/working/tfaske/balsam/SNPcall/bowtie2/BS_CL_4.F.fq.gz_sorted.bam\n",
      "38.72288662391641 BS_CL_4\n",
      "/working/tfaske/balsam/SNPcall/bowtie2/BS_CL_5.F.fq.gz_sorted.bam\n",
      "24.857690028362473 BS_CL_5\n",
      "/working/tfaske/balsam/SNPcall/bowtie2/BS_CL_6.F.fq.gz_sorted.bam\n",
      "25.17484935037069 BS_CL_6\n",
      "/working/tfaske/balsam/SNPcall/bowtie2/BS_CL_7.F.fq.gz_sorted.bam\n",
      "27.345264961968702 BS_CL_7\n",
      "/working/tfaske/balsam/SNPcall/bowtie2/BS_CL_8.F.fq.gz_sorted.bam\n",
      "23.35357113156814 BS_CL_8\n",
      "/working/tfaske/balsam/SNPcall/bowtie2/BS_CL_9.F.fq.gz_sorted.bam\n",
      "25.097338661950115 BS_CL_9\n",
      "/working/tfaske/balsam/SNPcall/bowtie2/BS_CN_1.F.fq.gz_sorted.bam\n",
      "22.440449888022023 BS_CN_1\n",
      "/working/tfaske/balsam/SNPcall/bowtie2/BS_CN_10.F.fq.gz_sorted.bam\n",
      "29.16056104293137 BS_CN_10\n",
      "/working/tfaske/balsam/SNPcall/bowtie2/BS_CN_11.F.fq.gz_sorted.bam\n",
      "22.586281026264313 BS_CN_11\n",
      "/working/tfaske/balsam/SNPcall/bowtie2/BS_CN_12.F.fq.gz_sorted.bam\n",
      "20.697532750130968 BS_CN_12\n",
      "/working/tfaske/balsam/SNPcall/bowtie2/BS_CN_2.F.fq.gz_sorted.bam\n",
      "26.605633195786115 BS_CN_2\n",
      "/working/tfaske/balsam/SNPcall/bowtie2/BS_CN_3.F.fq.gz_sorted.bam\n",
      "26.749847779173265 BS_CN_3\n",
      "/working/tfaske/balsam/SNPcall/bowtie2/BS_CN_4.F.fq.gz_sorted.bam\n",
      "14.775570153251005 BS_CN_4\n",
      "/working/tfaske/balsam/SNPcall/bowtie2/BS_CN_5.F.fq.gz_sorted.bam\n"
     ]
    },
    {
     "name": "stdout",
     "output_type": "stream",
     "text": [
      "20.793969025575382 BS_CN_5\n",
      "/working/tfaske/balsam/SNPcall/bowtie2/BS_CN_6.F.fq.gz_sorted.bam\n",
      "16.819202201385465 BS_CN_6\n",
      "/working/tfaske/balsam/SNPcall/bowtie2/BS_CN_7.F.fq.gz_sorted.bam\n",
      "25.29582527889052 BS_CN_7\n",
      "/working/tfaske/balsam/SNPcall/bowtie2/BS_CN_8.F.fq.gz_sorted.bam\n",
      "17.517940361740266 BS_CN_8\n",
      "/working/tfaske/balsam/SNPcall/bowtie2/BS_CN_9.F.fq.gz_sorted.bam\n",
      "28.399894857943327 BS_CN_9\n",
      "/working/tfaske/balsam/SNPcall/bowtie2/BS_EC_1.F.fq.gz_sorted.bam\n",
      "26.101682165738993 BS_EC_1\n",
      "/working/tfaske/balsam/SNPcall/bowtie2/BS_EC_10.F.fq.gz_sorted.bam\n",
      "27.04103889288956 BS_EC_10\n",
      "/working/tfaske/balsam/SNPcall/bowtie2/BS_EC_11.F.fq.gz_sorted.bam\n",
      "31.513937503038967 BS_EC_11\n",
      "/working/tfaske/balsam/SNPcall/bowtie2/BS_EC_12.F.fq.gz_sorted.bam\n",
      "27.024398913210682 BS_EC_12\n",
      "/working/tfaske/balsam/SNPcall/bowtie2/BS_EC_2.F.fq.gz_sorted.bam\n",
      "23.532957585021016 BS_EC_2\n",
      "/working/tfaske/balsam/SNPcall/bowtie2/BS_EC_3.F.fq.gz_sorted.bam\n",
      "20.78660343805572 BS_EC_3\n",
      "/working/tfaske/balsam/SNPcall/bowtie2/BS_EC_4.F.fq.gz_sorted.bam\n",
      "26.041249298939544 BS_EC_4\n",
      "/working/tfaske/balsam/SNPcall/bowtie2/BS_EC_5.F.fq.gz_sorted.bam\n",
      "23.775858517310606 BS_EC_5\n",
      "/working/tfaske/balsam/SNPcall/bowtie2/BS_EC_6.F.fq.gz_sorted.bam\n",
      "24.796182103161136 BS_EC_6\n",
      "/working/tfaske/balsam/SNPcall/bowtie2/BS_EC_7.F.fq.gz_sorted.bam\n",
      "23.94258137249764 BS_EC_7\n",
      "/working/tfaske/balsam/SNPcall/bowtie2/BS_EC_8.F.fq.gz_sorted.bam\n",
      "20.002376731291523 BS_EC_8\n",
      "/working/tfaske/balsam/SNPcall/bowtie2/BS_EC_9.F.fq.gz_sorted.bam\n",
      "25.678506476204564 BS_EC_9\n",
      "/working/tfaske/balsam/SNPcall/bowtie2/BS_GA_1.F.fq.gz_sorted.bam\n",
      "20.848505280318392 BS_GA_1\n",
      "/working/tfaske/balsam/SNPcall/bowtie2/BS_GA_10.F.fq.gz_sorted.bam\n",
      "22.65947398926626 BS_GA_10\n",
      "/working/tfaske/balsam/SNPcall/bowtie2/BS_GA_11.F.fq.gz_sorted.bam\n",
      "21.102183409654355 BS_GA_11\n",
      "/working/tfaske/balsam/SNPcall/bowtie2/BS_GA_12.F.fq.gz_sorted.bam\n",
      "23.261383974238377 BS_GA_12\n",
      "/working/tfaske/balsam/SNPcall/bowtie2/BS_GA_2.F.fq.gz_sorted.bam\n",
      "15.16252183977729 BS_GA_2\n",
      "/working/tfaske/balsam/SNPcall/bowtie2/BS_GA_3.F.fq.gz_sorted.bam\n",
      "3.2538439796495195 BS_GA_3\n",
      "/working/tfaske/balsam/SNPcall/bowtie2/BS_GA_4.F.fq.gz_sorted.bam\n",
      "24.870157182249393 BS_GA_4\n",
      "/working/tfaske/balsam/SNPcall/bowtie2/BS_GA_5.F.fq.gz_sorted.bam\n",
      "23.836205267143526 BS_GA_5\n",
      "/working/tfaske/balsam/SNPcall/bowtie2/BS_GA_6.F.fq.gz_sorted.bam\n",
      "24.681980456635827 BS_GA_6\n",
      "/working/tfaske/balsam/SNPcall/bowtie2/BS_GA_7.F.fq.gz_sorted.bam\n",
      "26.37066402161794 BS_GA_7\n",
      "/working/tfaske/balsam/SNPcall/bowtie2/BS_GA_8.F.fq.gz_sorted.bam\n",
      "21.10753087399826 BS_GA_8\n",
      "/working/tfaske/balsam/SNPcall/bowtie2/BS_GA_9.F.fq.gz_sorted.bam\n",
      "24.965349158767275 BS_GA_9\n",
      "/working/tfaske/balsam/SNPcall/bowtie2/BS_GB_1.F.fq.gz_sorted.bam\n",
      "24.877878392535475 BS_GB_1\n",
      "/working/tfaske/balsam/SNPcall/bowtie2/BS_GB_10.F.fq.gz_sorted.bam\n",
      "29.15680952733548 BS_GB_10\n",
      "/working/tfaske/balsam/SNPcall/bowtie2/BS_GB_11.F.fq.gz_sorted.bam\n",
      "23.110647608791293 BS_GB_11\n",
      "/working/tfaske/balsam/SNPcall/bowtie2/BS_GB_12.F.fq.gz_sorted.bam\n",
      "19.325541982234412 BS_GB_12\n",
      "/working/tfaske/balsam/SNPcall/bowtie2/BS_GB_2.F.fq.gz_sorted.bam\n",
      "16.879080331398107 BS_GB_2\n",
      "/working/tfaske/balsam/SNPcall/bowtie2/BS_GB_3.F.fq.gz_sorted.bam\n",
      "26.885893341785167 BS_GB_3\n",
      "/working/tfaske/balsam/SNPcall/bowtie2/BS_GB_4.F.fq.gz_sorted.bam\n",
      "30.326928322945204 BS_GB_4\n",
      "/working/tfaske/balsam/SNPcall/bowtie2/BS_GB_5.F.fq.gz_sorted.bam\n",
      "20.222163771956634 BS_GB_5\n",
      "/working/tfaske/balsam/SNPcall/bowtie2/BS_GB_6.F.fq.gz_sorted.bam\n",
      "27.359877372203222 BS_GB_6\n",
      "/working/tfaske/balsam/SNPcall/bowtie2/BS_GB_7.F.fq.gz_sorted.bam\n",
      "25.160294319197362 BS_GB_7\n",
      "/working/tfaske/balsam/SNPcall/bowtie2/BS_GB_8.F.fq.gz_sorted.bam\n",
      "23.16876207085115 BS_GB_8\n",
      "/working/tfaske/balsam/SNPcall/bowtie2/BS_GB_9.F.fq.gz_sorted.bam\n",
      "15.399457406892678 BS_GB_9\n",
      "/working/tfaske/balsam/SNPcall/bowtie2/BS_GJ_1.F.fq.gz_sorted.bam\n",
      "26.22508898057821 BS_GJ_1\n",
      "/working/tfaske/balsam/SNPcall/bowtie2/BS_GJ_10.F.fq.gz_sorted.bam\n",
      "29.993983213851443 BS_GJ_10\n",
      "/working/tfaske/balsam/SNPcall/bowtie2/BS_GJ_11.F.fq.gz_sorted.bam\n",
      "21.189738760354032 BS_GJ_11\n",
      "/working/tfaske/balsam/SNPcall/bowtie2/BS_GJ_12.F.fq.gz_sorted.bam\n",
      "24.360826860436624 BS_GJ_12\n",
      "/working/tfaske/balsam/SNPcall/bowtie2/BS_GJ_2.F.fq.gz_sorted.bam\n",
      "23.14869279941314 BS_GJ_2\n",
      "/working/tfaske/balsam/SNPcall/bowtie2/BS_GJ_3.F.fq.gz_sorted.bam\n",
      "25.22393177592757 BS_GJ_3\n",
      "/working/tfaske/balsam/SNPcall/bowtie2/BS_GJ_4.F.fq.gz_sorted.bam\n",
      "24.884381401766294 BS_GJ_4\n",
      "/working/tfaske/balsam/SNPcall/bowtie2/BS_GJ_5.F.fq.gz_sorted.bam\n",
      "25.619793710660876 BS_GJ_5\n",
      "/working/tfaske/balsam/SNPcall/bowtie2/BS_GJ_6.F.fq.gz_sorted.bam\n",
      "32.0667896967245 BS_GJ_6\n",
      "/working/tfaske/balsam/SNPcall/bowtie2/BS_GJ_7.F.fq.gz_sorted.bam\n",
      "32.743195235001515 BS_GJ_7\n",
      "/working/tfaske/balsam/SNPcall/bowtie2/BS_GJ_8.F.fq.gz_sorted.bam\n",
      "18.956668938402508 BS_GJ_8\n",
      "/working/tfaske/balsam/SNPcall/bowtie2/BS_GJ_9.F.fq.gz_sorted.bam\n",
      "30.59058158000645 BS_GJ_9\n",
      "/working/tfaske/balsam/SNPcall/bowtie2/BS_JV_1.F.fq.gz_sorted.bam\n",
      "22.17065331862027 BS_JV_1\n",
      "/working/tfaske/balsam/SNPcall/bowtie2/BS_JV_10.F.fq.gz_sorted.bam\n",
      "19.94067886954498 BS_JV_10\n",
      "/working/tfaske/balsam/SNPcall/bowtie2/BS_JV_11.F.fq.gz_sorted.bam\n",
      "25.81384408321893 BS_JV_11\n",
      "/working/tfaske/balsam/SNPcall/bowtie2/BS_JV_12.F.fq.gz_sorted.bam\n",
      "26.117782905906143 BS_JV_12\n",
      "/working/tfaske/balsam/SNPcall/bowtie2/BS_JV_2.F.fq.gz_sorted.bam\n",
      "23.93105092231011 BS_JV_2\n",
      "/working/tfaske/balsam/SNPcall/bowtie2/BS_JV_3.F.fq.gz_sorted.bam\n",
      "27.92079297119092 BS_JV_3\n",
      "/working/tfaske/balsam/SNPcall/bowtie2/BS_JV_4.F.fq.gz_sorted.bam\n",
      "28.74046813103638 BS_JV_4\n",
      "/working/tfaske/balsam/SNPcall/bowtie2/BS_JV_5.F.fq.gz_sorted.bam\n",
      "24.296104241006855 BS_JV_5\n",
      "/working/tfaske/balsam/SNPcall/bowtie2/BS_JV_6.F.fq.gz_sorted.bam\n",
      "29.34925202046942 BS_JV_6\n",
      "/working/tfaske/balsam/SNPcall/bowtie2/BS_JV_7.F.fq.gz_sorted.bam\n",
      "26.654474780224643 BS_JV_7\n",
      "/working/tfaske/balsam/SNPcall/bowtie2/BS_JV_8.F.fq.gz_sorted.bam\n",
      "25.141939899571 BS_JV_8\n",
      "/working/tfaske/balsam/SNPcall/bowtie2/BS_JV_9.F.fq.gz_sorted.bam\n",
      "19.22820295225104 BS_JV_9\n",
      "/working/tfaske/balsam/SNPcall/bowtie2/BS_KA_1.F.fq.gz_sorted.bam\n",
      "20.50843098391466 BS_KA_1\n",
      "/working/tfaske/balsam/SNPcall/bowtie2/BS_KA_10.F.fq.gz_sorted.bam\n",
      "22.260320635310084 BS_KA_10\n",
      "/working/tfaske/balsam/SNPcall/bowtie2/BS_KA_11.F.fq.gz_sorted.bam\n",
      "17.48370736307581 BS_KA_11\n",
      "/working/tfaske/balsam/SNPcall/bowtie2/BS_KA_12.F.fq.gz_sorted.bam\n",
      "25.78970182759713 BS_KA_12\n",
      "/working/tfaske/balsam/SNPcall/bowtie2/BS_KA_2.F.fq.gz_sorted.bam\n",
      "12.636940541090716 BS_KA_2\n",
      "/working/tfaske/balsam/SNPcall/bowtie2/BS_KA_3.F.fq.gz_sorted.bam\n",
      "20.89668479221768 BS_KA_3\n",
      "/working/tfaske/balsam/SNPcall/bowtie2/BS_KA_4.F.fq.gz_sorted.bam\n",
      "24.268771529729605 BS_KA_4\n",
      "/working/tfaske/balsam/SNPcall/bowtie2/BS_KA_5.F.fq.gz_sorted.bam\n",
      "16.80595104889209 BS_KA_5\n",
      "/working/tfaske/balsam/SNPcall/bowtie2/BS_KA_6.F.fq.gz_sorted.bam\n",
      "20.127104479525368 BS_KA_6\n",
      "/working/tfaske/balsam/SNPcall/bowtie2/BS_KA_8.F.fq.gz_sorted.bam\n",
      "21.986739554135433 BS_KA_8\n",
      "/working/tfaske/balsam/SNPcall/bowtie2/BS_KB_1.F.fq.gz_sorted.bam\n",
      "30.142470180481595 BS_KB_1\n",
      "/working/tfaske/balsam/SNPcall/bowtie2/BS_KB_10.F.fq.gz_sorted.bam\n",
      "27.486671838862723 BS_KB_10\n",
      "/working/tfaske/balsam/SNPcall/bowtie2/BS_KB_11.F.fq.gz_sorted.bam\n",
      "28.713178342666964 BS_KB_11\n",
      "/working/tfaske/balsam/SNPcall/bowtie2/BS_KB_12.F.fq.gz_sorted.bam\n",
      "26.381863359202647 BS_KB_12\n",
      "/working/tfaske/balsam/SNPcall/bowtie2/BS_KB_13.F.fq.gz_sorted.bam\n",
      "28.393714289624214 BS_KB_13\n",
      "/working/tfaske/balsam/SNPcall/bowtie2/BS_KB_14.F.fq.gz_sorted.bam\n",
      "26.906307333030348 BS_KB_14\n",
      "/working/tfaske/balsam/SNPcall/bowtie2/BS_KB_2.F.fq.gz_sorted.bam\n",
      "19.268521672132866 BS_KB_2\n",
      "/working/tfaske/balsam/SNPcall/bowtie2/BS_KB_3.F.fq.gz_sorted.bam\n",
      "28.046316690694265 BS_KB_3\n",
      "/working/tfaske/balsam/SNPcall/bowtie2/BS_KB_4.F.fq.gz_sorted.bam\n",
      "23.861120415486486 BS_KB_4\n",
      "/working/tfaske/balsam/SNPcall/bowtie2/BS_KB_5.F.fq.gz_sorted.bam\n",
      "25.56261478204395 BS_KB_5\n",
      "/working/tfaske/balsam/SNPcall/bowtie2/BS_KB_6.F.fq.gz_sorted.bam\n",
      "24.70717051489641 BS_KB_6\n",
      "/working/tfaske/balsam/SNPcall/bowtie2/BS_KB_7.F.fq.gz_sorted.bam\n",
      "26.04537498531967 BS_KB_7\n",
      "/working/tfaske/balsam/SNPcall/bowtie2/BS_KB_8.F.fq.gz_sorted.bam\n",
      "21.044007724211706 BS_KB_8\n",
      "/working/tfaske/balsam/SNPcall/bowtie2/BS_KB_9.F.fq.gz_sorted.bam\n"
     ]
    },
    {
     "name": "stdout",
     "output_type": "stream",
     "text": [
      "18.302081651098703 BS_KB_9\n",
      "/working/tfaske/balsam/SNPcall/bowtie2/BS_KM_1.F.fq.gz_sorted.bam\n",
      "4.542397639590297 BS_KM_1\n",
      "/working/tfaske/balsam/SNPcall/bowtie2/BS_KM_10.F.fq.gz_sorted.bam\n",
      "21.201363234467134 BS_KM_10\n",
      "/working/tfaske/balsam/SNPcall/bowtie2/BS_KM_11.F.fq.gz_sorted.bam\n",
      "21.374738900103672 BS_KM_11\n",
      "/working/tfaske/balsam/SNPcall/bowtie2/BS_KM_12.F.fq.gz_sorted.bam\n",
      "11.350220729055085 BS_KM_12\n",
      "/working/tfaske/balsam/SNPcall/bowtie2/BS_KM_2.F.fq.gz_sorted.bam\n",
      "18.43517612048677 BS_KM_2\n",
      "/working/tfaske/balsam/SNPcall/bowtie2/BS_KM_3.F.fq.gz_sorted.bam\n",
      "2.253653418390901 BS_KM_3\n",
      "/working/tfaske/balsam/SNPcall/bowtie2/BS_KM_4.F.fq.gz_sorted.bam\n",
      "23.894868859183923 BS_KM_4\n",
      "/working/tfaske/balsam/SNPcall/bowtie2/BS_KM_6.F.fq.gz_sorted.bam\n",
      "24.516874202569287 BS_KM_6\n",
      "/working/tfaske/balsam/SNPcall/bowtie2/BS_KM_7.F.fq.gz_sorted.bam\n",
      "27.775564142458336 BS_KM_7\n",
      "/working/tfaske/balsam/SNPcall/bowtie2/BS_KM_8.F.fq.gz_sorted.bam\n",
      "27.944316981094453 BS_KM_8\n",
      "/working/tfaske/balsam/SNPcall/bowtie2/BS_KM_9.F.fq.gz_sorted.bam\n",
      "26.974275948381113 BS_KM_9\n",
      "/working/tfaske/balsam/SNPcall/bowtie2/BS_LC_1.F.fq.gz_sorted.bam\n",
      "23.534297831866684 BS_LC_1\n",
      "/working/tfaske/balsam/SNPcall/bowtie2/BS_LC_10.F.fq.gz_sorted.bam\n",
      "23.448004839026147 BS_LC_10\n",
      "/working/tfaske/balsam/SNPcall/bowtie2/BS_LC_11.F.fq.gz_sorted.bam\n",
      "28.226983929952546 BS_LC_11\n",
      "/working/tfaske/balsam/SNPcall/bowtie2/BS_LC_12.F.fq.gz_sorted.bam\n",
      "23.866577450248375 BS_LC_12\n",
      "/working/tfaske/balsam/SNPcall/bowtie2/BS_LC_2.F.fq.gz_sorted.bam\n",
      "20.19586737181956 BS_LC_2\n",
      "/working/tfaske/balsam/SNPcall/bowtie2/BS_LC_3.F.fq.gz_sorted.bam\n",
      "27.576623217191937 BS_LC_3\n",
      "/working/tfaske/balsam/SNPcall/bowtie2/BS_LC_4.F.fq.gz_sorted.bam\n",
      "19.33699099739485 BS_LC_4\n",
      "/working/tfaske/balsam/SNPcall/bowtie2/BS_LC_5.F.fq.gz_sorted.bam\n",
      "20.447589451837977 BS_LC_5\n",
      "/working/tfaske/balsam/SNPcall/bowtie2/BS_LC_6.F.fq.gz_sorted.bam\n",
      "20.754236077126215 BS_LC_6\n",
      "/working/tfaske/balsam/SNPcall/bowtie2/BS_LC_7.F.fq.gz_sorted.bam\n",
      "22.247336873960585 BS_LC_7\n",
      "/working/tfaske/balsam/SNPcall/bowtie2/BS_LC_8.F.fq.gz_sorted.bam\n",
      "21.414868928575178 BS_LC_8\n",
      "/working/tfaske/balsam/SNPcall/bowtie2/BS_LC_9.F.fq.gz_sorted.bam\n",
      "21.879816252733164 BS_LC_9\n",
      "/working/tfaske/balsam/SNPcall/bowtie2/BS_LL_1.F.fq.gz_sorted.bam\n",
      "27.710412051432858 BS_LL_1\n",
      "/working/tfaske/balsam/SNPcall/bowtie2/BS_LL_10.F.fq.gz_sorted.bam\n",
      "28.343453575878506 BS_LL_10\n",
      "/working/tfaske/balsam/SNPcall/bowtie2/BS_LL_2.F.fq.gz_sorted.bam\n",
      "25.696148295585406 BS_LL_2\n",
      "/working/tfaske/balsam/SNPcall/bowtie2/BS_LL_3.F.fq.gz_sorted.bam\n",
      "20.81619034243511 BS_LL_3\n",
      "/working/tfaske/balsam/SNPcall/bowtie2/BS_LL_4.F.fq.gz_sorted.bam\n",
      "27.033587447451215 BS_LL_4\n",
      "/working/tfaske/balsam/SNPcall/bowtie2/BS_LL_5.F.fq.gz_sorted.bam\n",
      "19.732957402309196 BS_LL_5\n",
      "/working/tfaske/balsam/SNPcall/bowtie2/BS_LL_6.F.fq.gz_sorted.bam\n",
      "27.176150084201762 BS_LL_6\n",
      "/working/tfaske/balsam/SNPcall/bowtie2/BS_LL_7.F.fq.gz_sorted.bam\n",
      "27.107612776876802 BS_LL_7\n",
      "/working/tfaske/balsam/SNPcall/bowtie2/BS_LL_8.F.fq.gz_sorted.bam\n",
      "23.249555252306966 BS_LL_8\n",
      "/working/tfaske/balsam/SNPcall/bowtie2/BS_LL_9.F.fq.gz_sorted.bam\n",
      "19.315079124579125 BS_LL_9\n",
      "/working/tfaske/balsam/SNPcall/bowtie2/BS_LM_1.F.fq.gz_sorted.bam\n",
      "22.723548134215847 BS_LM_1\n",
      "/working/tfaske/balsam/SNPcall/bowtie2/BS_LM_10.F.fq.gz_sorted.bam\n",
      "27.975234577263127 BS_LM_10\n",
      "/working/tfaske/balsam/SNPcall/bowtie2/BS_LM_11.F.fq.gz_sorted.bam\n",
      "22.999277101903093 BS_LM_11\n",
      "/working/tfaske/balsam/SNPcall/bowtie2/BS_LM_12.F.fq.gz_sorted.bam\n",
      "20.365370988122315 BS_LM_12\n",
      "/working/tfaske/balsam/SNPcall/bowtie2/BS_LM_2.F.fq.gz_sorted.bam\n",
      "23.35533518082597 BS_LM_2\n",
      "/working/tfaske/balsam/SNPcall/bowtie2/BS_LM_3.F.fq.gz_sorted.bam\n",
      "28.48559079432506 BS_LM_3\n",
      "/working/tfaske/balsam/SNPcall/bowtie2/BS_LM_4.F.fq.gz_sorted.bam\n",
      "28.817717332180944 BS_LM_4\n",
      "/working/tfaske/balsam/SNPcall/bowtie2/BS_LM_5.F.fq.gz_sorted.bam\n",
      "25.622708885614646 BS_LM_5\n",
      "/working/tfaske/balsam/SNPcall/bowtie2/BS_LM_6.F.fq.gz_sorted.bam\n",
      "24.128628937798023 BS_LM_6\n",
      "/working/tfaske/balsam/SNPcall/bowtie2/BS_LM_7.F.fq.gz_sorted.bam\n",
      "23.453283015656314 BS_LM_7\n",
      "/working/tfaske/balsam/SNPcall/bowtie2/BS_LM_8.F.fq.gz_sorted.bam\n",
      "25.54365732520226 BS_LM_8\n",
      "/working/tfaske/balsam/SNPcall/bowtie2/BS_LM_9.F.fq.gz_sorted.bam\n",
      "22.75286584164301 BS_LM_9\n",
      "/working/tfaske/balsam/SNPcall/bowtie2/BS_MM_1.F.fq.gz_sorted.bam\n",
      "23.777547284829584 BS_MM_1\n",
      "/working/tfaske/balsam/SNPcall/bowtie2/BS_MM_10.F.fq.gz_sorted.bam\n",
      "21.801674363629182 BS_MM_10\n",
      "/working/tfaske/balsam/SNPcall/bowtie2/BS_MM_11.F.fq.gz_sorted.bam\n",
      "34.54386686673851 BS_MM_11\n",
      "/working/tfaske/balsam/SNPcall/bowtie2/BS_MM_12.F.fq.gz_sorted.bam\n",
      "21.317471833014807 BS_MM_12\n",
      "/working/tfaske/balsam/SNPcall/bowtie2/BS_MM_2.F.fq.gz_sorted.bam\n",
      "29.593453639317698 BS_MM_2\n",
      "/working/tfaske/balsam/SNPcall/bowtie2/BS_MM_3.F.fq.gz_sorted.bam\n",
      "14.161065431670712 BS_MM_3\n",
      "/working/tfaske/balsam/SNPcall/bowtie2/BS_MM_4.F.fq.gz_sorted.bam\n",
      "28.49979794607971 BS_MM_4\n",
      "/working/tfaske/balsam/SNPcall/bowtie2/BS_MM_5.F.fq.gz_sorted.bam\n",
      "28.025182270317206 BS_MM_5\n",
      "/working/tfaske/balsam/SNPcall/bowtie2/BS_MM_6.F.fq.gz_sorted.bam\n",
      "25.308905136814474 BS_MM_6\n",
      "/working/tfaske/balsam/SNPcall/bowtie2/BS_MM_7.F.fq.gz_sorted.bam\n",
      "31.671442617070316 BS_MM_7\n",
      "/working/tfaske/balsam/SNPcall/bowtie2/BS_MM_8.F.fq.gz_sorted.bam\n",
      "24.296736039342473 BS_MM_8\n",
      "/working/tfaske/balsam/SNPcall/bowtie2/BS_MM_9.F.fq.gz_sorted.bam\n",
      "31.787723906243645 BS_MM_9\n",
      "/working/tfaske/balsam/SNPcall/bowtie2/BS_MT_1.F.fq.gz_sorted.bam\n",
      "28.250705436577878 BS_MT_1\n",
      "/working/tfaske/balsam/SNPcall/bowtie2/BS_MT_10.F.fq.gz_sorted.bam\n",
      "22.509634614908112 BS_MT_10\n",
      "/working/tfaske/balsam/SNPcall/bowtie2/BS_MT_11.F.fq.gz_sorted.bam\n",
      "25.16375744399192 BS_MT_11\n",
      "/working/tfaske/balsam/SNPcall/bowtie2/BS_MT_12.F.fq.gz_sorted.bam\n",
      "30.969640268799363 BS_MT_12\n",
      "/working/tfaske/balsam/SNPcall/bowtie2/BS_MT_2.F.fq.gz_sorted.bam\n",
      "23.890111301783598 BS_MT_2\n",
      "/working/tfaske/balsam/SNPcall/bowtie2/BS_MT_3.F.fq.gz_sorted.bam\n",
      "24.5431482965268 BS_MT_3\n",
      "/working/tfaske/balsam/SNPcall/bowtie2/BS_MT_4.F.fq.gz_sorted.bam\n",
      "21.651784622822976 BS_MT_4\n",
      "/working/tfaske/balsam/SNPcall/bowtie2/BS_MT_5.F.fq.gz_sorted.bam\n",
      "27.420570609619933 BS_MT_5\n",
      "/working/tfaske/balsam/SNPcall/bowtie2/BS_MT_6.F.fq.gz_sorted.bam\n",
      "22.75353184190398 BS_MT_6\n",
      "/working/tfaske/balsam/SNPcall/bowtie2/BS_MT_7.F.fq.gz_sorted.bam\n",
      "30.670098954462553 BS_MT_7\n",
      "/working/tfaske/balsam/SNPcall/bowtie2/BS_MT_8.F.fq.gz_sorted.bam\n",
      "24.626480433875507 BS_MT_8\n",
      "/working/tfaske/balsam/SNPcall/bowtie2/BS_MT_9.F.fq.gz_sorted.bam\n",
      "30.595684139072382 BS_MT_9\n",
      "/working/tfaske/balsam/SNPcall/bowtie2/BS_QG_1.F.fq.gz_sorted.bam\n",
      "23.872190976424445 BS_QG_1\n",
      "/working/tfaske/balsam/SNPcall/bowtie2/BS_QG_10.F.fq.gz_sorted.bam\n",
      "21.83557642838329 BS_QG_10\n",
      "/working/tfaske/balsam/SNPcall/bowtie2/BS_QG_11.F.fq.gz_sorted.bam\n",
      "24.73904853307325 BS_QG_11\n",
      "/working/tfaske/balsam/SNPcall/bowtie2/BS_QG_12.F.fq.gz_sorted.bam\n",
      "18.053931718497633 BS_QG_12\n",
      "/working/tfaske/balsam/SNPcall/bowtie2/BS_QG_2.F.fq.gz_sorted.bam\n",
      "20.546896060875238 BS_QG_2\n",
      "/working/tfaske/balsam/SNPcall/bowtie2/BS_QG_3.F.fq.gz_sorted.bam\n",
      "26.120814354922874 BS_QG_3\n",
      "/working/tfaske/balsam/SNPcall/bowtie2/BS_QG_4.F.fq.gz_sorted.bam\n",
      "20.917034719497465 BS_QG_4\n",
      "/working/tfaske/balsam/SNPcall/bowtie2/BS_QG_5.F.fq.gz_sorted.bam\n",
      "30.642456177806327 BS_QG_5\n",
      "/working/tfaske/balsam/SNPcall/bowtie2/BS_QG_6.F.fq.gz_sorted.bam\n",
      "20.479369078160047 BS_QG_6\n",
      "/working/tfaske/balsam/SNPcall/bowtie2/BS_QG_7.F.fq.gz_sorted.bam\n",
      "26.736646078168548 BS_QG_7\n",
      "/working/tfaske/balsam/SNPcall/bowtie2/BS_QG_8.F.fq.gz_sorted.bam\n",
      "26.97333099517422 BS_QG_8\n",
      "/working/tfaske/balsam/SNPcall/bowtie2/BS_QG_9.F.fq.gz_sorted.bam\n",
      "29.84252846277416 BS_QG_9\n",
      "/working/tfaske/balsam/SNPcall/bowtie2/BS_RC_1.F.fq.gz_sorted.bam\n",
      "22.74121740150942 BS_RC_1\n",
      "/working/tfaske/balsam/SNPcall/bowtie2/BS_RC_10.F.fq.gz_sorted.bam\n",
      "26.17134092549315 BS_RC_10\n",
      "/working/tfaske/balsam/SNPcall/bowtie2/BS_RC_11.F.fq.gz_sorted.bam\n",
      "24.197739104494 BS_RC_11\n",
      "/working/tfaske/balsam/SNPcall/bowtie2/BS_RC_12.F.fq.gz_sorted.bam\n",
      "26.120578660899046 BS_RC_12\n",
      "/working/tfaske/balsam/SNPcall/bowtie2/BS_RC_2.F.fq.gz_sorted.bam\n",
      "27.78462073656504 BS_RC_2\n",
      "/working/tfaske/balsam/SNPcall/bowtie2/BS_RC_3.F.fq.gz_sorted.bam\n",
      "26.919139047020337 BS_RC_3\n",
      "/working/tfaske/balsam/SNPcall/bowtie2/BS_RC_4.F.fq.gz_sorted.bam\n"
     ]
    },
    {
     "name": "stdout",
     "output_type": "stream",
     "text": [
      "28.594684255826827 BS_RC_4\n",
      "/working/tfaske/balsam/SNPcall/bowtie2/BS_RC_5.F.fq.gz_sorted.bam\n",
      "25.50057910357185 BS_RC_5\n",
      "/working/tfaske/balsam/SNPcall/bowtie2/BS_RC_6.F.fq.gz_sorted.bam\n",
      "25.064438098214286 BS_RC_6\n",
      "/working/tfaske/balsam/SNPcall/bowtie2/BS_RC_7.F.fq.gz_sorted.bam\n",
      "24.15052045704253 BS_RC_7\n",
      "/working/tfaske/balsam/SNPcall/bowtie2/BS_RC_8.F.fq.gz_sorted.bam\n",
      "25.57301204566634 BS_RC_8\n",
      "/working/tfaske/balsam/SNPcall/bowtie2/BS_RC_9.F.fq.gz_sorted.bam\n",
      "23.040109845635047 BS_RC_9\n",
      "/working/tfaske/balsam/SNPcall/bowtie2/BS_RL_1.F.fq.gz_sorted.bam\n",
      "27.48623646880739 BS_RL_1\n",
      "/working/tfaske/balsam/SNPcall/bowtie2/BS_RL_10.F.fq.gz_sorted.bam\n",
      "23.531414077478196 BS_RL_10\n",
      "/working/tfaske/balsam/SNPcall/bowtie2/BS_RL_11.F.fq.gz_sorted.bam\n",
      "30.980534355079442 BS_RL_11\n",
      "/working/tfaske/balsam/SNPcall/bowtie2/BS_RL_12.F.fq.gz_sorted.bam\n",
      "22.566487788615614 BS_RL_12\n",
      "/working/tfaske/balsam/SNPcall/bowtie2/BS_RL_2.F.fq.gz_sorted.bam\n",
      "23.50098060992482 BS_RL_2\n",
      "/working/tfaske/balsam/SNPcall/bowtie2/BS_RL_3.F.fq.gz_sorted.bam\n",
      "29.889644677005613 BS_RL_3\n",
      "/working/tfaske/balsam/SNPcall/bowtie2/BS_RL_4.F.fq.gz_sorted.bam\n",
      "25.054818660060228 BS_RL_4\n",
      "/working/tfaske/balsam/SNPcall/bowtie2/BS_RL_5.F.fq.gz_sorted.bam\n",
      "23.82865137807041 BS_RL_5\n",
      "/working/tfaske/balsam/SNPcall/bowtie2/BS_RL_6.F.fq.gz_sorted.bam\n",
      "14.352451688282525 BS_RL_6\n",
      "/working/tfaske/balsam/SNPcall/bowtie2/BS_RL_7.F.fq.gz_sorted.bam\n",
      "28.94568845490459 BS_RL_7\n",
      "/working/tfaske/balsam/SNPcall/bowtie2/BS_RL_8.F.fq.gz_sorted.bam\n",
      "25.242264685036872 BS_RL_8\n",
      "/working/tfaske/balsam/SNPcall/bowtie2/BS_RL_9.F.fq.gz_sorted.bam\n",
      "23.592221945454554 BS_RL_9\n",
      "/working/tfaske/balsam/SNPcall/bowtie2/BS_RP_1.F.fq.gz_sorted.bam\n",
      "25.311774086172143 BS_RP_1\n",
      "/working/tfaske/balsam/SNPcall/bowtie2/BS_RP_10.F.fq.gz_sorted.bam\n",
      "23.950163458562244 BS_RP_10\n",
      "/working/tfaske/balsam/SNPcall/bowtie2/BS_RP_11.F.fq.gz_sorted.bam\n",
      "16.675037108832832 BS_RP_11\n",
      "/working/tfaske/balsam/SNPcall/bowtie2/BS_RP_12.F.fq.gz_sorted.bam\n",
      "21.34992309031016 BS_RP_12\n",
      "/working/tfaske/balsam/SNPcall/bowtie2/BS_RP_2.F.fq.gz_sorted.bam\n",
      "28.8056958866465 BS_RP_2\n",
      "/working/tfaske/balsam/SNPcall/bowtie2/BS_RP_4.F.fq.gz_sorted.bam\n",
      "28.63049953576825 BS_RP_4\n",
      "/working/tfaske/balsam/SNPcall/bowtie2/BS_RP_5.F.fq.gz_sorted.bam\n",
      "23.262553269147986 BS_RP_5\n",
      "/working/tfaske/balsam/SNPcall/bowtie2/BS_RP_6.F.fq.gz_sorted.bam\n",
      "13.76448919820417 BS_RP_6\n",
      "/working/tfaske/balsam/SNPcall/bowtie2/BS_RP_7.F.fq.gz_sorted.bam\n",
      "27.062153604648536 BS_RP_7\n",
      "/working/tfaske/balsam/SNPcall/bowtie2/BS_RP_8.F.fq.gz_sorted.bam\n",
      "23.27342209260739 BS_RP_8\n",
      "/working/tfaske/balsam/SNPcall/bowtie2/BS_RP_9.F.fq.gz_sorted.bam\n",
      "26.79993661417662 BS_RP_9\n",
      "/working/tfaske/balsam/SNPcall/bowtie2/BS_SC_1.F.fq.gz_sorted.bam\n",
      "25.461646953537667 BS_SC_1\n",
      "/working/tfaske/balsam/SNPcall/bowtie2/BS_SC_10.F.fq.gz_sorted.bam\n",
      "26.366358512024952 BS_SC_10\n",
      "/working/tfaske/balsam/SNPcall/bowtie2/BS_SC_11.F.fq.gz_sorted.bam\n",
      "24.998800645957054 BS_SC_11\n",
      "/working/tfaske/balsam/SNPcall/bowtie2/BS_SC_12.F.fq.gz_sorted.bam\n",
      "21.1124220628947 BS_SC_12\n",
      "/working/tfaske/balsam/SNPcall/bowtie2/BS_SC_2.F.fq.gz_sorted.bam\n",
      "21.243268186967942 BS_SC_2\n",
      "/working/tfaske/balsam/SNPcall/bowtie2/BS_SC_3.F.fq.gz_sorted.bam\n",
      "27.32283114947021 BS_SC_3\n",
      "/working/tfaske/balsam/SNPcall/bowtie2/BS_SC_4.F.fq.gz_sorted.bam\n",
      "28.910893817050894 BS_SC_4\n",
      "/working/tfaske/balsam/SNPcall/bowtie2/BS_SC_5.F.fq.gz_sorted.bam\n",
      "24.88605660126602 BS_SC_5\n",
      "/working/tfaske/balsam/SNPcall/bowtie2/BS_SC_6.F.fq.gz_sorted.bam\n",
      "26.675114583976942 BS_SC_6\n",
      "/working/tfaske/balsam/SNPcall/bowtie2/BS_SC_7.F.fq.gz_sorted.bam\n",
      "29.45659048721968 BS_SC_7\n",
      "/working/tfaske/balsam/SNPcall/bowtie2/BS_SC_8.F.fq.gz_sorted.bam\n",
      "21.267125155270094 BS_SC_8\n",
      "/working/tfaske/balsam/SNPcall/bowtie2/BS_SC_9.F.fq.gz_sorted.bam\n",
      "18.890354856179407 BS_SC_9\n",
      "/working/tfaske/balsam/SNPcall/bowtie2/BS_SD_1.F.fq.gz_sorted.bam\n",
      "31.137224615639262 BS_SD_1\n",
      "/working/tfaske/balsam/SNPcall/bowtie2/BS_SD_10.F.fq.gz_sorted.bam\n",
      "28.259876609147707 BS_SD_10\n",
      "/working/tfaske/balsam/SNPcall/bowtie2/BS_SD_11.F.fq.gz_sorted.bam\n",
      "21.916023276022678 BS_SD_11\n",
      "/working/tfaske/balsam/SNPcall/bowtie2/BS_SD_12.F.fq.gz_sorted.bam\n",
      "40.079274500802896 BS_SD_12\n",
      "/working/tfaske/balsam/SNPcall/bowtie2/BS_SD_2.F.fq.gz_sorted.bam\n",
      "21.78797112322747 BS_SD_2\n",
      "/working/tfaske/balsam/SNPcall/bowtie2/BS_SD_3.F.fq.gz_sorted.bam\n",
      "31.0486637437847 BS_SD_3\n",
      "/working/tfaske/balsam/SNPcall/bowtie2/BS_SD_4.F.fq.gz_sorted.bam\n",
      "22.55010899974493 BS_SD_4\n",
      "/working/tfaske/balsam/SNPcall/bowtie2/BS_SD_5.F.fq.gz_sorted.bam\n",
      "24.85000509937577 BS_SD_5\n",
      "/working/tfaske/balsam/SNPcall/bowtie2/BS_SD_6.F.fq.gz_sorted.bam\n",
      "20.014458487406078 BS_SD_6\n",
      "/working/tfaske/balsam/SNPcall/bowtie2/BS_SD_7.F.fq.gz_sorted.bam\n",
      "31.309884203880692 BS_SD_7\n",
      "/working/tfaske/balsam/SNPcall/bowtie2/BS_SD_8.F.fq.gz_sorted.bam\n",
      "32.38377415765509 BS_SD_8\n",
      "/working/tfaske/balsam/SNPcall/bowtie2/BS_SD_9.F.fq.gz_sorted.bam\n",
      "22.173055923045148 BS_SD_9\n",
      "/working/tfaske/balsam/SNPcall/bowtie2/BS_SL_1.F.fq.gz_sorted.bam\n",
      "24.187144261759304 BS_SL_1\n",
      "/working/tfaske/balsam/SNPcall/bowtie2/BS_SL_10.F.fq.gz_sorted.bam\n",
      "18.2144120072706 BS_SL_10\n",
      "/working/tfaske/balsam/SNPcall/bowtie2/BS_SL_11.F.fq.gz_sorted.bam\n",
      "24.534256993581096 BS_SL_11\n",
      "/working/tfaske/balsam/SNPcall/bowtie2/BS_SL_12.F.fq.gz_sorted.bam\n",
      "23.87372420794212 BS_SL_12\n",
      "/working/tfaske/balsam/SNPcall/bowtie2/BS_SL_2.F.fq.gz_sorted.bam\n",
      "15.214842179125071 BS_SL_2\n",
      "/working/tfaske/balsam/SNPcall/bowtie2/BS_SL_3.F.fq.gz_sorted.bam\n",
      "19.255778794912565 BS_SL_3\n",
      "/working/tfaske/balsam/SNPcall/bowtie2/BS_SL_4.F.fq.gz_sorted.bam\n",
      "10.476549041328697 BS_SL_4\n",
      "/working/tfaske/balsam/SNPcall/bowtie2/BS_SL_5.F.fq.gz_sorted.bam\n",
      "21.54900833241044 BS_SL_5\n",
      "/working/tfaske/balsam/SNPcall/bowtie2/BS_SL_6.F.fq.gz_sorted.bam\n",
      "19.019542755548876 BS_SL_6\n",
      "/working/tfaske/balsam/SNPcall/bowtie2/BS_SL_7.F.fq.gz_sorted.bam\n",
      "20.902864680306866 BS_SL_7\n",
      "/working/tfaske/balsam/SNPcall/bowtie2/BS_SL_8.F.fq.gz_sorted.bam\n",
      "15.973921687217857 BS_SL_8\n",
      "/working/tfaske/balsam/SNPcall/bowtie2/BS_SL_9.F.fq.gz_sorted.bam\n",
      "19.550097271319196 BS_SL_9\n",
      "/working/tfaske/balsam/SNPcall/bowtie2/BS_SP_1.F.fq.gz_sorted.bam\n",
      "17.202264463226122 BS_SP_1\n",
      "/working/tfaske/balsam/SNPcall/bowtie2/BS_SP_10.F.fq.gz_sorted.bam\n",
      "21.606607901767546 BS_SP_10\n",
      "/working/tfaske/balsam/SNPcall/bowtie2/BS_SP_2.F.fq.gz_sorted.bam\n",
      "26.46384039674239 BS_SP_2\n",
      "/working/tfaske/balsam/SNPcall/bowtie2/BS_SP_3.F.fq.gz_sorted.bam\n",
      "27.820100604279666 BS_SP_3\n",
      "/working/tfaske/balsam/SNPcall/bowtie2/BS_SP_4.F.fq.gz_sorted.bam\n",
      "24.02262122998302 BS_SP_4\n",
      "/working/tfaske/balsam/SNPcall/bowtie2/BS_SP_5.F.fq.gz_sorted.bam\n",
      "21.425306918505367 BS_SP_5\n",
      "/working/tfaske/balsam/SNPcall/bowtie2/BS_SP_6.F.fq.gz_sorted.bam\n",
      "22.71514249110805 BS_SP_6\n",
      "/working/tfaske/balsam/SNPcall/bowtie2/BS_SP_7.F.fq.gz_sorted.bam\n",
      "4.732152832198043 BS_SP_7\n",
      "/working/tfaske/balsam/SNPcall/bowtie2/BS_SP_8.F.fq.gz_sorted.bam\n",
      "25.022356866513995 BS_SP_8\n",
      "/working/tfaske/balsam/SNPcall/bowtie2/BS_SP_9.F.fq.gz_sorted.bam\n",
      "20.950253308653956 BS_SP_9\n",
      "/working/tfaske/balsam/SNPcall/bowtie2/BS_SY_1.F.fq.gz_sorted.bam\n",
      "27.119177230977467 BS_SY_1\n",
      "/working/tfaske/balsam/SNPcall/bowtie2/BS_SY_10.F.fq.gz_sorted.bam\n",
      "25.582491792888735 BS_SY_10\n",
      "/working/tfaske/balsam/SNPcall/bowtie2/BS_SY_11.F.fq.gz_sorted.bam\n",
      "32.577922976774815 BS_SY_11\n",
      "/working/tfaske/balsam/SNPcall/bowtie2/BS_SY_12.F.fq.gz_sorted.bam\n",
      "19.94851083486131 BS_SY_12\n",
      "/working/tfaske/balsam/SNPcall/bowtie2/BS_SY_2.F.fq.gz_sorted.bam\n",
      "19.913166226856973 BS_SY_2\n",
      "/working/tfaske/balsam/SNPcall/bowtie2/BS_SY_3.F.fq.gz_sorted.bam\n",
      "20.748113401216745 BS_SY_3\n",
      "/working/tfaske/balsam/SNPcall/bowtie2/BS_SY_4.F.fq.gz_sorted.bam\n",
      "25.204678951993102 BS_SY_4\n",
      "/working/tfaske/balsam/SNPcall/bowtie2/BS_SY_5.F.fq.gz_sorted.bam\n",
      "24.01151150401381 BS_SY_5\n",
      "/working/tfaske/balsam/SNPcall/bowtie2/BS_SY_6.F.fq.gz_sorted.bam\n",
      "23.86756763666345 BS_SY_6\n",
      "/working/tfaske/balsam/SNPcall/bowtie2/BS_SY_7.F.fq.gz_sorted.bam\n",
      "27.918277043145714 BS_SY_7\n",
      "/working/tfaske/balsam/SNPcall/bowtie2/BS_SY_8.F.fq.gz_sorted.bam\n",
      "29.87468355813017 BS_SY_8\n",
      "/working/tfaske/balsam/SNPcall/bowtie2/BS_SY_9.F.fq.gz_sorted.bam\n",
      "24.310088906162278 BS_SY_9\n",
      "/working/tfaske/balsam/SNPcall/bowtie2/BS_TM_1.F.fq.gz_sorted.bam\n",
      "24.32550412922322 BS_TM_1\n",
      "/working/tfaske/balsam/SNPcall/bowtie2/BS_TM_10.F.fq.gz_sorted.bam\n",
      "28.48209649802286 BS_TM_10\n",
      "/working/tfaske/balsam/SNPcall/bowtie2/BS_TM_2.F.fq.gz_sorted.bam\n"
     ]
    },
    {
     "name": "stdout",
     "output_type": "stream",
     "text": [
      "25.02185332324065 BS_TM_2\n",
      "/working/tfaske/balsam/SNPcall/bowtie2/BS_TM_3.F.fq.gz_sorted.bam\n",
      "10.372048453350335 BS_TM_3\n",
      "/working/tfaske/balsam/SNPcall/bowtie2/BS_TM_4.F.fq.gz_sorted.bam\n",
      "34.12248468977048 BS_TM_4\n",
      "/working/tfaske/balsam/SNPcall/bowtie2/BS_TM_5.F.fq.gz_sorted.bam\n",
      "32.62815601611368 BS_TM_5\n",
      "/working/tfaske/balsam/SNPcall/bowtie2/BS_TM_6.F.fq.gz_sorted.bam\n",
      "28.46555642470251 BS_TM_6\n",
      "/working/tfaske/balsam/SNPcall/bowtie2/BS_TM_7.F.fq.gz_sorted.bam\n",
      "21.40541003582298 BS_TM_7\n",
      "/working/tfaske/balsam/SNPcall/bowtie2/BS_TM_8.F.fq.gz_sorted.bam\n",
      "25.47322971156349 BS_TM_8\n",
      "/working/tfaske/balsam/SNPcall/bowtie2/BS_TM_9.F.fq.gz_sorted.bam\n",
      "26.805963769416874 BS_TM_9\n",
      "/working/tfaske/balsam/SNPcall/bowtie2/BS_WC_1.F.fq.gz_sorted.bam\n",
      "23.15669285371814 BS_WC_1\n",
      "/working/tfaske/balsam/SNPcall/bowtie2/BS_WC_10.F.fq.gz_sorted.bam\n",
      "24.740025829461263 BS_WC_10\n",
      "/working/tfaske/balsam/SNPcall/bowtie2/BS_WC_11.F.fq.gz_sorted.bam\n",
      "25.061676343641945 BS_WC_11\n",
      "/working/tfaske/balsam/SNPcall/bowtie2/BS_WC_12.F.fq.gz_sorted.bam\n",
      "25.725825330728995 BS_WC_12\n",
      "/working/tfaske/balsam/SNPcall/bowtie2/BS_WC_2.F.fq.gz_sorted.bam\n",
      "26.314727330047017 BS_WC_2\n",
      "/working/tfaske/balsam/SNPcall/bowtie2/BS_WC_3.F.fq.gz_sorted.bam\n",
      "24.728552058225 BS_WC_3\n",
      "/working/tfaske/balsam/SNPcall/bowtie2/BS_WC_4.F.fq.gz_sorted.bam\n",
      "24.186560011735846 BS_WC_4\n",
      "/working/tfaske/balsam/SNPcall/bowtie2/BS_WC_5.F.fq.gz_sorted.bam\n",
      "17.587126934246083 BS_WC_5\n",
      "/working/tfaske/balsam/SNPcall/bowtie2/BS_WC_6.F.fq.gz_sorted.bam\n",
      "25.135827743861828 BS_WC_6\n",
      "/working/tfaske/balsam/SNPcall/bowtie2/BS_WC_7.F.fq.gz_sorted.bam\n",
      "24.10577722411328 BS_WC_7\n",
      "/working/tfaske/balsam/SNPcall/bowtie2/BS_WC_8.F.fq.gz_sorted.bam\n",
      "21.832524078376707 BS_WC_8\n",
      "/working/tfaske/balsam/SNPcall/bowtie2/BS_WC_9.F.fq.gz_sorted.bam\n",
      "24.358567013625184 BS_WC_9\n"
     ]
    },
    {
     "ename": "TypeError",
     "evalue": "__init__() got an unexpected keyword argument 'bam'",
     "output_type": "error",
     "traceback": [
      "\u001b[0;31m---------------------------------------------------------------------------\u001b[0m",
      "\u001b[0;31mTypeError\u001b[0m                                 Traceback (most recent call last)",
      "\u001b[0;32m<ipython-input-27-46eb3a368616>\u001b[0m in \u001b[0;36m<module>\u001b[0;34m\u001b[0m\n\u001b[1;32m     14\u001b[0m     \u001b[0mcov_list\u001b[0m\u001b[0;34m.\u001b[0m\u001b[0mappend\u001b[0m\u001b[0;34m(\u001b[0m\u001b[0mcoverage\u001b[0m\u001b[0;34m)\u001b[0m\u001b[0;34m\u001b[0m\u001b[0;34m\u001b[0m\u001b[0m\n\u001b[1;32m     15\u001b[0m     \u001b[0mprint\u001b[0m\u001b[0;34m(\u001b[0m\u001b[0mcoverage\u001b[0m\u001b[0;34m,\u001b[0m\u001b[0mname\u001b[0m\u001b[0;34m)\u001b[0m\u001b[0;34m\u001b[0m\u001b[0;34m\u001b[0m\u001b[0m\n\u001b[0;32m---> 16\u001b[0;31m \u001b[0mcov_df\u001b[0m \u001b[0;34m=\u001b[0m \u001b[0mpd\u001b[0m\u001b[0;34m.\u001b[0m\u001b[0mDataFrame\u001b[0m\u001b[0;34m(\u001b[0m\u001b[0mbam\u001b[0m\u001b[0;34m=\u001b[0m\u001b[0mbam_names\u001b[0m\u001b[0;34m,\u001b[0m\u001b[0mcoverage\u001b[0m\u001b[0;34m=\u001b[0m\u001b[0mcov_list\u001b[0m\u001b[0;34m)\u001b[0m\u001b[0;34m\u001b[0m\u001b[0;34m\u001b[0m\u001b[0m\n\u001b[0m\u001b[1;32m     17\u001b[0m \u001b[0mcov_df\u001b[0m\u001b[0;34m.\u001b[0m\u001b[0mhead\u001b[0m\u001b[0;34m(\u001b[0m\u001b[0;34m)\u001b[0m\u001b[0;34m\u001b[0m\u001b[0;34m\u001b[0m\u001b[0m\n",
      "\u001b[0;31mTypeError\u001b[0m: __init__() got an unexpected keyword argument 'bam'"
     ]
    }
   ],
   "source": [
    "bam_names = []\n",
    "cov_list = []\n",
    "for i in range(0,len(bam_files)):\n",
    "    bam = bam_files[i]\n",
    "    print(bam)\n",
    "    b = bam.split('/')[6]\n",
    "    #print (b)\n",
    "    !$samtools depth -a $b > $'cov.txt'\n",
    "    cov = pd.read_csv('cov.txt', sep=\"\\t\",header=None)\n",
    "    coverage = sum(cov.iloc[:,2])/len(cov.index)\n",
    "    name = b.split('.F')[0]\n",
    "    #print(name)\n",
    "    bam_names.append(name)\n",
    "    cov_list.append(coverage)\n",
    "    print(coverage,name)\n",
    "cov_df = pd.DataFrame(bam=bam_names,coverage=cov_list)\n",
    "cov_df.head()"
   ]
  },
  {
   "cell_type": "code",
   "execution_count": 28,
   "metadata": {},
   "outputs": [
    {
     "data": {
      "text/html": [
       "<div>\n",
       "<style scoped>\n",
       "    .dataframe tbody tr th:only-of-type {\n",
       "        vertical-align: middle;\n",
       "    }\n",
       "\n",
       "    .dataframe tbody tr th {\n",
       "        vertical-align: top;\n",
       "    }\n",
       "\n",
       "    .dataframe thead th {\n",
       "        text-align: right;\n",
       "    }\n",
       "</style>\n",
       "<table border=\"1\" class=\"dataframe\">\n",
       "  <thead>\n",
       "    <tr style=\"text-align: right;\">\n",
       "      <th></th>\n",
       "      <th>bam</th>\n",
       "      <th>coverage</th>\n",
       "    </tr>\n",
       "  </thead>\n",
       "  <tbody>\n",
       "    <tr>\n",
       "      <th>0</th>\n",
       "      <td>BS_AN_1</td>\n",
       "      <td>27.557045</td>\n",
       "    </tr>\n",
       "    <tr>\n",
       "      <th>1</th>\n",
       "      <td>BS_AN_10</td>\n",
       "      <td>25.851519</td>\n",
       "    </tr>\n",
       "    <tr>\n",
       "      <th>2</th>\n",
       "      <td>BS_AN_11</td>\n",
       "      <td>24.677853</td>\n",
       "    </tr>\n",
       "    <tr>\n",
       "      <th>3</th>\n",
       "      <td>BS_AN_12</td>\n",
       "      <td>23.896954</td>\n",
       "    </tr>\n",
       "    <tr>\n",
       "      <th>4</th>\n",
       "      <td>BS_AN_2</td>\n",
       "      <td>34.566844</td>\n",
       "    </tr>\n",
       "  </tbody>\n",
       "</table>\n",
       "</div>"
      ],
      "text/plain": [
       "        bam   coverage\n",
       "0   BS_AN_1  27.557045\n",
       "1  BS_AN_10  25.851519\n",
       "2  BS_AN_11  24.677853\n",
       "3  BS_AN_12  23.896954\n",
       "4   BS_AN_2  34.566844"
      ]
     },
     "execution_count": 28,
     "metadata": {},
     "output_type": "execute_result"
    }
   ],
   "source": [
    "cov_dict = {\"bam\":bam_names,'coverage':cov_list}\n",
    "cov_df = pd.DataFrame(cov_dict)\n",
    "cov_df.head()\n",
    "#len(cov_df)"
   ]
  },
  {
   "cell_type": "code",
   "execution_count": 29,
   "metadata": {},
   "outputs": [],
   "source": [
    "cov_out = os.path.join(bowtie_dir,'bam_coverage.csv')\n",
    "cov_df.to_csv(path_or_buf=cov_out)"
   ]
  },
  {
   "cell_type": "code",
   "execution_count": 30,
   "metadata": {
    "scrolled": true
   },
   "outputs": [
    {
     "data": {
      "text/plain": [
       "count    373.000000\n",
       "mean      24.172100\n",
       "std        4.967044\n",
       "min        1.491386\n",
       "25%       21.414869\n",
       "50%       24.457073\n",
       "75%       27.041039\n",
       "max       40.079275\n",
       "Name: coverage, dtype: float64"
      ]
     },
     "execution_count": 30,
     "metadata": {},
     "output_type": "execute_result"
    }
   ],
   "source": [
    "cov_df.coverage.describe()\n"
   ]
  },
  {
   "cell_type": "code",
   "execution_count": 39,
   "metadata": {},
   "outputs": [
    {
     "data": {
      "text/plain": [
       "<matplotlib.axes._subplots.AxesSubplot at 0x7f2816199208>"
      ]
     },
     "execution_count": 39,
     "metadata": {},
     "output_type": "execute_result"
    },
    {
     "data": {
      "image/png": "[encoded data removed]",
      "text/plain": [
       "<Figure size 432x288 with 1 Axes>"
      ]
     },
     "metadata": {
      "image/png": {
       "height": 250,
       "width": 377
      },
      "needs_background": "light"
     },
     "output_type": "display_data"
    }
   ],
   "source": [
    "cov_df.coverage.hist()"
   ]
  },
  {
   "cell_type": "code",
   "execution_count": 31,
   "metadata": {},
   "outputs": [
    {
     "data": {
      "text/plain": [
       "373"
      ]
     },
     "execution_count": 31,
     "metadata": {},
     "output_type": "execute_result"
    }
   ],
   "source": [
    "len(cov_df.coverage)"
   ]
  },
  {
   "cell_type": "markdown",
   "metadata": {},
   "source": [
    "# move good bams"
   ]
  },
  {
   "cell_type": "code",
   "execution_count": 40,
   "metadata": {},
   "outputs": [
    {
     "data": {
      "text/plain": [
       "(368, 360)"
      ]
     },
     "execution_count": 40,
     "metadata": {},
     "output_type": "execute_result"
    }
   ],
   "source": [
    "len(cov_df[cov_df.coverage > 5]),len(cov_df[cov_df.coverage > 15])"
   ]
  },
  {
   "cell_type": "code",
   "execution_count": 41,
   "metadata": {},
   "outputs": [
    {
     "data": {
      "text/plain": [
       "(360, 'BS_AN_1')"
      ]
     },
     "execution_count": 41,
     "metadata": {},
     "output_type": "execute_result"
    }
   ],
   "source": [
    "good_bam = cov_df.bam[cov_df.coverage >= 15]\n",
    "good_bam = good_bam.tolist()\n",
    "len(good_bam),good_bam[0]"
   ]
  },
  {
   "cell_type": "code",
   "execution_count": 42,
   "metadata": {},
   "outputs": [
    {
     "data": {
      "text/plain": [
       "(360, '/home/faske/g/balsam/SNPcall/bowtie2/BS_AN_10.F.fq.gz_sorted.bam')"
      ]
     },
     "execution_count": 42,
     "metadata": {},
     "output_type": "execute_result"
    }
   ],
   "source": [
    "good_bam_files = []\n",
    "for i in range(0,len(good_bam)):\n",
    "    bam = bowtie_dir + '/' + good_bam[i] + '.F.fq.gz_sorted.bam'\n",
    "    good_bam_files.append(bam)\n",
    "len(good_bam_files), good_bam_files[1]"
   ]
  },
  {
   "cell_type": "code",
   "execution_count": 43,
   "metadata": {},
   "outputs": [
    {
     "name": "stdout",
     "output_type": "stream",
     "text": [
      "/working/tfaske/balsam/SNPcall\n"
     ]
    }
   ],
   "source": [
    "cd $snp_dir"
   ]
  },
  {
   "cell_type": "code",
   "execution_count": 44,
   "metadata": {},
   "outputs": [],
   "source": [
    "!mkdir 'good_bams'"
   ]
  },
  {
   "cell_type": "code",
   "execution_count": 45,
   "metadata": {},
   "outputs": [],
   "source": [
    "good_bam_dir = os.path.join(snp_dir,'good_bams')"
   ]
  },
  {
   "cell_type": "code",
   "execution_count": 46,
   "metadata": {},
   "outputs": [],
   "source": [
    "for i in range(0,len(good_bam_files)):\n",
    "    good_bam = str(good_bam_files[i])\n",
    "    !cp $good_bam $good_bam_dir"
   ]
  },
  {
   "cell_type": "code",
   "execution_count": 47,
   "metadata": {},
   "outputs": [
    {
     "name": "stdout",
     "output_type": "stream",
     "text": [
      "/working/tfaske/balsam/SNPcall/good_bams\n"
     ]
    }
   ],
   "source": [
    "cd $good_bam_dir"
   ]
  },
  {
   "cell_type": "code",
   "execution_count": 48,
   "metadata": {},
   "outputs": [],
   "source": [
    "good_bam_files = []\n",
    "files = !find . -type f -name '*sorted.bam'\n",
    "files = [os.path.abspath(x) for x in files if 'bam' in x]\n",
    "for x in files:\n",
    "    good_bam_files.append(x)\n",
    "good_bam_files = sorted(good_bam_files)"
   ]
  },
  {
   "cell_type": "code",
   "execution_count": 49,
   "metadata": {},
   "outputs": [
    {
     "data": {
      "text/plain": [
       "(360, '/working/tfaske/balsam/SNPcall/good_bams/BS_AN_1.F.fq.gz_sorted.bam')"
      ]
     },
     "execution_count": 49,
     "metadata": {},
     "output_type": "execute_result"
    }
   ],
   "source": [
    "len(good_bam_files),good_bam_files[0]"
   ]
  },
  {
   "cell_type": "markdown",
   "metadata": {},
   "source": [
    "# SNP CALL"
   ]
  },
  {
   "cell_type": "code",
   "execution_count": 50,
   "metadata": {},
   "outputs": [
    {
     "name": "stdout",
     "output_type": "stream",
     "text": [
      "/working/tfaske/balsam/SNPcall\n"
     ]
    }
   ],
   "source": [
    "cd $snp_dir"
   ]
  },
  {
   "cell_type": "code",
   "execution_count": 51,
   "metadata": {},
   "outputs": [
    {
     "data": {
      "text/plain": [
       "'/working/tfaske/balsam/SNPcall'"
      ]
     },
     "execution_count": 51,
     "metadata": {},
     "output_type": "execute_result"
    }
   ],
   "source": [
    "pwd"
   ]
  },
  {
   "cell_type": "code",
   "execution_count": 53,
   "metadata": {},
   "outputs": [],
   "source": [
    "with open(\"run_call_snps.sh\", \"w\") as o:\n",
    "    o.write(\"\"\"#!/bin/bash\n",
    "#$ -S /bin/bash\n",
    "#$ -cwd\n",
    "source activate py36\\n\"\"\")\n",
    "    o.write(\"samtools mpileup -t DP,AD,ADF,ADR,SP,INFO/AD,INFO/ADF,INFO/ADR -Iugf /home/faske/g/balsam/assembly/reference.fasta /home/faske/g/balsam/SNPcall/bowtie2/*sorted.bam | bcftools call -f GP,GQ -vmO z -o /home/faske/g/balsam/SNPcall/samtools1-9.BASA.vcf.gz\")\n",
    "                    \n",
    "                    \n",
    "                    \n",
    "                    \n",
    "                    "
   ]
  },
  {
   "cell_type": "markdown",
   "metadata": {},
   "source": [
    "# run_call_snps.sh \n",
    "    cd /home/faske/g/piper/retic/SNPcall\n",
    "    bash run_call_snps.sh &> call_snps.out &\n",
    "    disown -h\n",
    "    "
   ]
  },
  {
   "cell_type": "markdown",
   "metadata": {},
   "source": [
    "# CALL PLOIDY "
   ]
  },
  {
   "cell_type": "code",
   "execution_count": 0,
   "metadata": {
    "collapsed": true
   },
   "outputs": [],
   "source": []
  }
 ],
 "metadata": {
  "kernelspec": {
   "display_name": "Python 3",
   "language": "python",
   "name": "python3"
  },
  "language_info": {
   "codemirror_mode": {
    "name": "ipython",
    "version": 3
   },
   "file_extension": ".py",
   "mimetype": "text/x-python",
   "name": "python",
   "nbconvert_exporter": "python",
   "pygments_lexer": "ipython3",
   "version": "3.6.7"
  }
 },
 "nbformat": 4,
 "nbformat_minor": 1
}

{
 "cells": [
  {
   "cell_type": "code",
   "execution_count": 1,
   "metadata": {
    "ExecuteTime": {}
   },
   "outputs": [],
   "source": [
    "!source activate py36"
   ]
  },
  {
   "cell_type": "code",
   "execution_count": 2,
   "metadata": {
    "ExecuteTime": {}
   },
   "outputs": [],
   "source": [
    "import sys\n",
    "\n",
    "sys.path.append('/home/faske/g/anaconda3/envs/py36/lib/python3.6/site-packages')\n",
    "sys.path.append(\"/home/faske/g/ipynb/include_utils\")\n",
    "\n",
    "import ipyparallel as ipp\n",
    "import os, time\n",
    "import include_utils as u\n",
    "import pandas as pd\n",
    "import numpy as np\n",
    "import scipy as sp\n",
    "import numbers\n",
    "import matplotlib.pyplot as plt\n",
    "import matplotlib.patches as mpatches\n",
    "import matplotlib.cm as cm\n",
    "import matplotlib.colors as mcolors\n",
    "#import vcf\n",
    "from sklearn import preprocessing\n",
    "from subprocess import Popen, PIPE, call, check_output\n",
    "import seaborn as sns\n",
    "from IPython.display import FileLink\n",
    "import urllib.request as urllib2\n",
    "import dill\n",
    "import traceback\n",
    "from pandas import Series, DataFrame\n",
    "import gzip\n",
    "import warnings\n",
    "warnings.filterwarnings('ignore',category=pd.io.pytables.PerformanceWarning)\n",
    "%config InlineBackend.figure_format = 'retina'\n",
    "from Bio import SeqIO\n",
    "#import pysam\n",
    "from collections import OrderedDict, namedtuple, Counter\n",
    "import operator\n",
    "import multiprocessing as mp\n",
    "import shutil\n",
    "import tempfile\n",
    "#from ipyparallel import Client\n",
    "import scandir\n",
    "import glob\n",
    "from Bio.SeqIO.QualityIO import FastqGeneralIterator\n",
    "import pickle\n",
    "#import Levenshtein as lv"
   ]
  },
  {
   "cell_type": "code",
   "execution_count": 3,
   "metadata": {
    "ExecuteTime": {}
   },
   "outputs": [],
   "source": [
    "root = \"/home/faske/g/balsam\""
   ]
  },
  {
   "cell_type": "code",
   "execution_count": 4,
   "metadata": {
    "ExecuteTime": {}
   },
   "outputs": [
    {
     "name": "stdout",
     "output_type": "stream",
     "text": [
      "/working/tfaske/balsam\n"
     ]
    }
   ],
   "source": [
    "cd $root"
   ]
  },
  {
   "cell_type": "code",
   "execution_count": 10,
   "metadata": {},
   "outputs": [],
   "source": [
    "!mkdir SNPcall\n",
    "!mkdir SNPcall/bowtie2"
   ]
  },
  {
   "cell_type": "code",
   "execution_count": 5,
   "metadata": {
    "ExecuteTime": {}
   },
   "outputs": [
    {
     "data": {
      "text/plain": [
       "'/working/tfaske/balsam'"
      ]
     },
     "execution_count": 5,
     "metadata": {},
     "output_type": "execute_result"
    }
   ],
   "source": [
    "pwd"
   ]
  },
  {
   "cell_type": "markdown",
   "metadata": {},
   "source": [
    "# Actual Mapping \n",
    " "
   ]
  },
  {
   "cell_type": "code",
   "execution_count": 6,
   "metadata": {
    "ExecuteTime": {}
   },
   "outputs": [],
   "source": [
    "fastq_files = []\n",
    "for seqdir in ['demult/fastq/']:\n",
    "    os.chdir('{}/{}'.format(root, seqdir))\n",
    "    files = !find . -name '*fq.gz'\n",
    "    files = [os.path.abspath(x) for x in files]\n",
    "    for x in files:\n",
    "        fastq_files.append(x)\n",
    "fastq_files = sorted(fastq_files)"
   ]
  },
  {
   "cell_type": "code",
   "execution_count": 7,
   "metadata": {
    "ExecuteTime": {}
   },
   "outputs": [
    {
     "data": {
      "text/plain": [
       "373"
      ]
     },
     "execution_count": 7,
     "metadata": {},
     "output_type": "execute_result"
    }
   ],
   "source": [
    "len(fastq_files)"
   ]
  },
  {
   "cell_type": "code",
   "execution_count": 8,
   "metadata": {},
   "outputs": [
    {
     "name": "stdout",
     "output_type": "stream",
     "text": [
      "/working/tfaske/balsam\n"
     ]
    }
   ],
   "source": [
    "cd $root"
   ]
  },
  {
   "cell_type": "code",
   "execution_count": 14,
   "metadata": {
    "ExecuteTime": {}
   },
   "outputs": [],
   "source": [
    "assembly = \"/home/faske/g/balsam/assembly/reference.fasta\"\n",
    "\n",
    "#indexed as: bowtie2-build --threads 10 -f reference.fasta reference.fasta"
   ]
  },
  {
   "cell_type": "code",
   "execution_count": 15,
   "metadata": {
    "ExecuteTime": {}
   },
   "outputs": [],
   "source": [
    "# --very-fast-local\n",
    "# Same as: -D 5 -R 1 -N 0 -L 25 -i S,1,2.00\n",
    "\n",
    "# --fast-local\n",
    "# Same as: -D 10 -R 2 -N 0 -L 22 -i S,1,1.75\n",
    "\n",
    "# --sensitive-local\n",
    "# Same as: -D 15 -R 2 -N 0 -L 20 -i S,1,0.75 (default in --local mode)\n",
    "\n",
    "# --very-sensitive-local\n",
    "# Same as: -D 20 -R 3 -N 0 -L 20 -i S,1,0.50\n",
    "\n",
    "#@lview.remote()\n",
    "def run_bowtie2(args):\n",
    "    import os, multiprocessing, socket #stopwatch,\n",
    "    #timer = stopwatch.Timer()\n",
    "    cpus = 12\n",
    "    assembly, reads, outdir = args\n",
    "    sam = os.path.join(outdir, \"{}.sam\".format(os.path.basename(reads)))\n",
    "    #sam = tempfile.NamedTemporaryFile(delete=False, dir=\"/tmp\")\n",
    "    #print (sam)\n",
    "    cmd = \"bowtie2 --local -D 20 -R 3 -N 1 -L 20 -i S,1,0.50 -p %d -x %s -U %s -S %s\" % (cpus,\n",
    "                                                               assembly,\n",
    "                                                               reads,\n",
    "                                                               sam)\n",
    "    res = None\n",
    "    res = cmd\n",
    "#     if not os.path.exists(sam):\n",
    "#         res = !$cmd\n",
    "    #timer.stop()\n",
    "    return  cmd #,timer.elapsed"
   ]
  },
  {
   "cell_type": "code",
   "execution_count": 16,
   "metadata": {},
   "outputs": [],
   "source": [
    "bowtie_dir = os.path.join(root,\"SNPcall/bowtie2/\")\n",
    "assert(bowtie_dir)"
   ]
  },
  {
   "cell_type": "code",
   "execution_count": 17,
   "metadata": {},
   "outputs": [],
   "source": [
    "res = []\n",
    "for f in fastq_files:\n",
    "    r = run_bowtie2((assembly, f, bowtie_dir))\n",
    "    res.append(r)"
   ]
  },
  {
   "cell_type": "code",
   "execution_count": 18,
   "metadata": {},
   "outputs": [
    {
     "data": {
      "text/plain": [
       "'bowtie2 --local -D 20 -R 3 -N 1 -L 20 -i S,1,0.50 -p 12 -x /home/faske/g/balsam/assembly/reference.fasta -U /working/tfaske/balsam/demult/fastq/BS_AN_1.F.fq.gz -S /home/faske/g/balsam/SNPcall/bowtie2/BS_AN_1.F.fq.gz.sam'"
      ]
     },
     "execution_count": 18,
     "metadata": {},
     "output_type": "execute_result"
    }
   ],
   "source": [
    "res[0]"
   ]
  },
  {
   "cell_type": "code",
   "execution_count": 19,
   "metadata": {},
   "outputs": [
    {
     "data": {
      "text/plain": [
       "'/working/tfaske/balsam'"
      ]
     },
     "execution_count": 19,
     "metadata": {},
     "output_type": "execute_result"
    }
   ],
   "source": [
    "pwd"
   ]
  },
  {
   "cell_type": "code",
   "execution_count": 20,
   "metadata": {
    "ExecuteTime": {}
   },
   "outputs": [],
   "source": [
    "def write_bowtie_sh(cmds):\n",
    "    with open(\"SNPcall/run_bowtie.sh\", \"w\") as o:\n",
    "        o.write(\"\"\"#!/bin/bash\n",
    "#$ -S /bin/bash\n",
    "#$ -cwd\n",
    "#$ -o bowtie2.out\n",
    "#$ -e bowtie2.err\n",
    "source activate py36\\n\"\"\")\n",
    "        for elem in cmds:\n",
    "            o.write(\"{}\\n\".format(elem))"
   ]
  },
  {
   "cell_type": "code",
   "execution_count": 21,
   "metadata": {},
   "outputs": [
    {
     "name": "stdout",
     "output_type": "stream",
     "text": [
      "/working/tfaske/balsam\n"
     ]
    }
   ],
   "source": [
    "cd $root"
   ]
  },
  {
   "cell_type": "code",
   "execution_count": 22,
   "metadata": {},
   "outputs": [],
   "source": [
    "write_bowtie_sh(res)"
   ]
  },
  {
   "cell_type": "markdown",
   "metadata": {},
   "source": [
    "# Run run_bowie.sh\n",
    "    cd /home/faske/g/piper/retic/SNPcall \n",
    "    bash run_bowtie.sh &> bowtie.out &\n",
    "    disown -h\n",
    "    "
   ]
  },
  {
   "cell_type": "code",
   "execution_count": 35,
   "metadata": {
    "ExecuteTime": {}
   },
   "outputs": [],
   "source": [
    "fqs = !find /home/faske/g/balsam/demult/fastq/ -name \"*fq.gz\""
   ]
  },
  {
   "cell_type": "code",
   "execution_count": 36,
   "metadata": {
    "ExecuteTime": {}
   },
   "outputs": [],
   "source": [
    "sams = !find $bowtie_dir -name \"*.sam\""
   ]
  },
  {
   "cell_type": "code",
   "execution_count": 37,
   "metadata": {
    "ExecuteTime": {}
   },
   "outputs": [
    {
     "data": {
      "text/plain": [
       "(373, 373)"
      ]
     },
     "execution_count": 37,
     "metadata": {},
     "output_type": "execute_result"
    }
   ],
   "source": [
    "len(fqs), len(sams)"
   ]
  },
  {
   "cell_type": "code",
   "execution_count": 38,
   "metadata": {},
   "outputs": [
    {
     "data": {
      "text/plain": [
       "['/home/faske/g/balsam/SNPcall/bowtie2/BS_AN_1.F.fq.gz.sam',\n",
       " '/home/faske/g/balsam/SNPcall/bowtie2/BS_AN_10.F.fq.gz.sam',\n",
       " '/home/faske/g/balsam/SNPcall/bowtie2/BS_AN_11.F.fq.gz.sam',\n",
       " '/home/faske/g/balsam/SNPcall/bowtie2/BS_AN_12.F.fq.gz.sam',\n",
       " '/home/faske/g/balsam/SNPcall/bowtie2/BS_AN_2.F.fq.gz.sam',\n",
       " '/home/faske/g/balsam/SNPcall/bowtie2/BS_AN_3.F.fq.gz.sam',\n",
       " '/home/faske/g/balsam/SNPcall/bowtie2/BS_AN_4.F.fq.gz.sam',\n",
       " '/home/faske/g/balsam/SNPcall/bowtie2/BS_AN_5.F.fq.gz.sam',\n",
       " '/home/faske/g/balsam/SNPcall/bowtie2/BS_AN_6.F.fq.gz.sam',\n",
       " '/home/faske/g/balsam/SNPcall/bowtie2/BS_AN_7.F.fq.gz.sam',\n",
       " '/home/faske/g/balsam/SNPcall/bowtie2/BS_AN_8.F.fq.gz.sam',\n",
       " '/home/faske/g/balsam/SNPcall/bowtie2/BS_AN_9.F.fq.gz.sam',\n",
       " '/home/faske/g/balsam/SNPcall/bowtie2/BS_AS_1.F.fq.gz.sam',\n",
       " '/home/faske/g/balsam/SNPcall/bowtie2/BS_AS_10.F.fq.gz.sam',\n",
       " '/home/faske/g/balsam/SNPcall/bowtie2/BS_AS_11.F.fq.gz.sam',\n",
       " '/home/faske/g/balsam/SNPcall/bowtie2/BS_AS_12.F.fq.gz.sam',\n",
       " '/home/faske/g/balsam/SNPcall/bowtie2/BS_AS_2.F.fq.gz.sam',\n",
       " '/home/faske/g/balsam/SNPcall/bowtie2/BS_AS_3.F.fq.gz.sam',\n",
       " '/home/faske/g/balsam/SNPcall/bowtie2/BS_AS_4.F.fq.gz.sam',\n",
       " '/home/faske/g/balsam/SNPcall/bowtie2/BS_AS_5.F.fq.gz.sam',\n",
       " '/home/faske/g/balsam/SNPcall/bowtie2/BS_AS_6.F.fq.gz.sam',\n",
       " '/home/faske/g/balsam/SNPcall/bowtie2/BS_AS_7.F.fq.gz.sam',\n",
       " '/home/faske/g/balsam/SNPcall/bowtie2/BS_AS_8.F.fq.gz.sam',\n",
       " '/home/faske/g/balsam/SNPcall/bowtie2/BS_AS_9.F.fq.gz.sam',\n",
       " '/home/faske/g/balsam/SNPcall/bowtie2/BS_BB_1.F.fq.gz.sam',\n",
       " '/home/faske/g/balsam/SNPcall/bowtie2/BS_BB_10.F.fq.gz.sam',\n",
       " '/home/faske/g/balsam/SNPcall/bowtie2/BS_BB_11.F.fq.gz.sam',\n",
       " '/home/faske/g/balsam/SNPcall/bowtie2/BS_BB_12.F.fq.gz.sam',\n",
       " '/home/faske/g/balsam/SNPcall/bowtie2/BS_BB_2.F.fq.gz.sam',\n",
       " '/home/faske/g/balsam/SNPcall/bowtie2/BS_BB_3.F.fq.gz.sam',\n",
       " '/home/faske/g/balsam/SNPcall/bowtie2/BS_BB_4.F.fq.gz.sam',\n",
       " '/home/faske/g/balsam/SNPcall/bowtie2/BS_BB_5.F.fq.gz.sam',\n",
       " '/home/faske/g/balsam/SNPcall/bowtie2/BS_BB_6.F.fq.gz.sam',\n",
       " '/home/faske/g/balsam/SNPcall/bowtie2/BS_BB_7.F.fq.gz.sam',\n",
       " '/home/faske/g/balsam/SNPcall/bowtie2/BS_BB_8.F.fq.gz.sam',\n",
       " '/home/faske/g/balsam/SNPcall/bowtie2/BS_BB_9.F.fq.gz.sam',\n",
       " '/home/faske/g/balsam/SNPcall/bowtie2/BS_BH_1.F.fq.gz.sam',\n",
       " '/home/faske/g/balsam/SNPcall/bowtie2/BS_BH_10.F.fq.gz.sam',\n",
       " '/home/faske/g/balsam/SNPcall/bowtie2/BS_BH_11.F.fq.gz.sam',\n",
       " '/home/faske/g/balsam/SNPcall/bowtie2/BS_BH_12.F.fq.gz.sam',\n",
       " '/home/faske/g/balsam/SNPcall/bowtie2/BS_BH_2.F.fq.gz.sam',\n",
       " '/home/faske/g/balsam/SNPcall/bowtie2/BS_BH_3.F.fq.gz.sam',\n",
       " '/home/faske/g/balsam/SNPcall/bowtie2/BS_BH_4.F.fq.gz.sam',\n",
       " '/home/faske/g/balsam/SNPcall/bowtie2/BS_BH_5.F.fq.gz.sam',\n",
       " '/home/faske/g/balsam/SNPcall/bowtie2/BS_BH_6.F.fq.gz.sam',\n",
       " '/home/faske/g/balsam/SNPcall/bowtie2/BS_BH_7.F.fq.gz.sam',\n",
       " '/home/faske/g/balsam/SNPcall/bowtie2/BS_BH_8.F.fq.gz.sam',\n",
       " '/home/faske/g/balsam/SNPcall/bowtie2/BS_BH_9.F.fq.gz.sam',\n",
       " '/home/faske/g/balsam/SNPcall/bowtie2/BS_CC_1.F.fq.gz.sam',\n",
       " '/home/faske/g/balsam/SNPcall/bowtie2/BS_CC_10.F.fq.gz.sam',\n",
       " '/home/faske/g/balsam/SNPcall/bowtie2/BS_CC_11.F.fq.gz.sam',\n",
       " '/home/faske/g/balsam/SNPcall/bowtie2/BS_CC_12.F.fq.gz.sam',\n",
       " '/home/faske/g/balsam/SNPcall/bowtie2/BS_CC_2.F.fq.gz.sam',\n",
       " '/home/faske/g/balsam/SNPcall/bowtie2/BS_CC_3.F.fq.gz.sam',\n",
       " '/home/faske/g/balsam/SNPcall/bowtie2/BS_CC_4.F.fq.gz.sam',\n",
       " '/home/faske/g/balsam/SNPcall/bowtie2/BS_CC_5.F.fq.gz.sam',\n",
       " '/home/faske/g/balsam/SNPcall/bowtie2/BS_CC_6.F.fq.gz.sam',\n",
       " '/home/faske/g/balsam/SNPcall/bowtie2/BS_CC_7.F.fq.gz.sam',\n",
       " '/home/faske/g/balsam/SNPcall/bowtie2/BS_CC_8.F.fq.gz.sam',\n",
       " '/home/faske/g/balsam/SNPcall/bowtie2/BS_CC_9.F.fq.gz.sam',\n",
       " '/home/faske/g/balsam/SNPcall/bowtie2/BS_CF_1.F.fq.gz.sam',\n",
       " '/home/faske/g/balsam/SNPcall/bowtie2/BS_CF_11.F.fq.gz.sam',\n",
       " '/home/faske/g/balsam/SNPcall/bowtie2/BS_CF_2.F.fq.gz.sam',\n",
       " '/home/faske/g/balsam/SNPcall/bowtie2/BS_CF_3.F.fq.gz.sam',\n",
       " '/home/faske/g/balsam/SNPcall/bowtie2/BS_CF_4.F.fq.gz.sam',\n",
       " '/home/faske/g/balsam/SNPcall/bowtie2/BS_CF_5.F.fq.gz.sam',\n",
       " '/home/faske/g/balsam/SNPcall/bowtie2/BS_CF_7.F.fq.gz.sam',\n",
       " '/home/faske/g/balsam/SNPcall/bowtie2/BS_CF_8.F.fq.gz.sam',\n",
       " '/home/faske/g/balsam/SNPcall/bowtie2/BS_CF_9.F.fq.gz.sam',\n",
       " '/home/faske/g/balsam/SNPcall/bowtie2/BS_CL_1.F.fq.gz.sam',\n",
       " '/home/faske/g/balsam/SNPcall/bowtie2/BS_CL_10.F.fq.gz.sam',\n",
       " '/home/faske/g/balsam/SNPcall/bowtie2/BS_CL_11.F.fq.gz.sam',\n",
       " '/home/faske/g/balsam/SNPcall/bowtie2/BS_CL_12.F.fq.gz.sam',\n",
       " '/home/faske/g/balsam/SNPcall/bowtie2/BS_CL_2.F.fq.gz.sam',\n",
       " '/home/faske/g/balsam/SNPcall/bowtie2/BS_CL_3.F.fq.gz.sam',\n",
       " '/home/faske/g/balsam/SNPcall/bowtie2/BS_CL_4.F.fq.gz.sam',\n",
       " '/home/faske/g/balsam/SNPcall/bowtie2/BS_CL_5.F.fq.gz.sam',\n",
       " '/home/faske/g/balsam/SNPcall/bowtie2/BS_CL_6.F.fq.gz.sam',\n",
       " '/home/faske/g/balsam/SNPcall/bowtie2/BS_CL_7.F.fq.gz.sam',\n",
       " '/home/faske/g/balsam/SNPcall/bowtie2/BS_CL_8.F.fq.gz.sam',\n",
       " '/home/faske/g/balsam/SNPcall/bowtie2/BS_CL_9.F.fq.gz.sam',\n",
       " '/home/faske/g/balsam/SNPcall/bowtie2/BS_CN_1.F.fq.gz.sam',\n",
       " '/home/faske/g/balsam/SNPcall/bowtie2/BS_CN_10.F.fq.gz.sam',\n",
       " '/home/faske/g/balsam/SNPcall/bowtie2/BS_CN_11.F.fq.gz.sam',\n",
       " '/home/faske/g/balsam/SNPcall/bowtie2/BS_CN_12.F.fq.gz.sam',\n",
       " '/home/faske/g/balsam/SNPcall/bowtie2/BS_CN_2.F.fq.gz.sam',\n",
       " '/home/faske/g/balsam/SNPcall/bowtie2/BS_CN_3.F.fq.gz.sam',\n",
       " '/home/faske/g/balsam/SNPcall/bowtie2/BS_CN_4.F.fq.gz.sam',\n",
       " '/home/faske/g/balsam/SNPcall/bowtie2/BS_CN_5.F.fq.gz.sam',\n",
       " '/home/faske/g/balsam/SNPcall/bowtie2/BS_CN_6.F.fq.gz.sam',\n",
       " '/home/faske/g/balsam/SNPcall/bowtie2/BS_CN_7.F.fq.gz.sam',\n",
       " '/home/faske/g/balsam/SNPcall/bowtie2/BS_CN_8.F.fq.gz.sam',\n",
       " '/home/faske/g/balsam/SNPcall/bowtie2/BS_CN_9.F.fq.gz.sam',\n",
       " '/home/faske/g/balsam/SNPcall/bowtie2/BS_EC_1.F.fq.gz.sam',\n",
       " '/home/faske/g/balsam/SNPcall/bowtie2/BS_EC_10.F.fq.gz.sam',\n",
       " '/home/faske/g/balsam/SNPcall/bowtie2/BS_EC_11.F.fq.gz.sam',\n",
       " '/home/faske/g/balsam/SNPcall/bowtie2/BS_EC_12.F.fq.gz.sam',\n",
       " '/home/faske/g/balsam/SNPcall/bowtie2/BS_EC_2.F.fq.gz.sam',\n",
       " '/home/faske/g/balsam/SNPcall/bowtie2/BS_EC_3.F.fq.gz.sam',\n",
       " '/home/faske/g/balsam/SNPcall/bowtie2/BS_EC_4.F.fq.gz.sam',\n",
       " '/home/faske/g/balsam/SNPcall/bowtie2/BS_EC_5.F.fq.gz.sam',\n",
       " '/home/faske/g/balsam/SNPcall/bowtie2/BS_EC_6.F.fq.gz.sam',\n",
       " '/home/faske/g/balsam/SNPcall/bowtie2/BS_EC_7.F.fq.gz.sam',\n",
       " '/home/faske/g/balsam/SNPcall/bowtie2/BS_EC_8.F.fq.gz.sam',\n",
       " '/home/faske/g/balsam/SNPcall/bowtie2/BS_EC_9.F.fq.gz.sam',\n",
       " '/home/faske/g/balsam/SNPcall/bowtie2/BS_GA_1.F.fq.gz.sam',\n",
       " '/home/faske/g/balsam/SNPcall/bowtie2/BS_GA_10.F.fq.gz.sam',\n",
       " '/home/faske/g/balsam/SNPcall/bowtie2/BS_GA_11.F.fq.gz.sam',\n",
       " '/home/faske/g/balsam/SNPcall/bowtie2/BS_GA_12.F.fq.gz.sam',\n",
       " '/home/faske/g/balsam/SNPcall/bowtie2/BS_GA_2.F.fq.gz.sam',\n",
       " '/home/faske/g/balsam/SNPcall/bowtie2/BS_GA_3.F.fq.gz.sam',\n",
       " '/home/faske/g/balsam/SNPcall/bowtie2/BS_GA_4.F.fq.gz.sam',\n",
       " '/home/faske/g/balsam/SNPcall/bowtie2/BS_GA_5.F.fq.gz.sam',\n",
       " '/home/faske/g/balsam/SNPcall/bowtie2/BS_GA_6.F.fq.gz.sam',\n",
       " '/home/faske/g/balsam/SNPcall/bowtie2/BS_GA_7.F.fq.gz.sam',\n",
       " '/home/faske/g/balsam/SNPcall/bowtie2/BS_GA_8.F.fq.gz.sam',\n",
       " '/home/faske/g/balsam/SNPcall/bowtie2/BS_GA_9.F.fq.gz.sam',\n",
       " '/home/faske/g/balsam/SNPcall/bowtie2/BS_GB_1.F.fq.gz.sam',\n",
       " '/home/faske/g/balsam/SNPcall/bowtie2/BS_GB_10.F.fq.gz.sam',\n",
       " '/home/faske/g/balsam/SNPcall/bowtie2/BS_GB_11.F.fq.gz.sam',\n",
       " '/home/faske/g/balsam/SNPcall/bowtie2/BS_GB_12.F.fq.gz.sam',\n",
       " '/home/faske/g/balsam/SNPcall/bowtie2/BS_GB_2.F.fq.gz.sam',\n",
       " '/home/faske/g/balsam/SNPcall/bowtie2/BS_GB_3.F.fq.gz.sam',\n",
       " '/home/faske/g/balsam/SNPcall/bowtie2/BS_GB_4.F.fq.gz.sam',\n",
       " '/home/faske/g/balsam/SNPcall/bowtie2/BS_GB_5.F.fq.gz.sam',\n",
       " '/home/faske/g/balsam/SNPcall/bowtie2/BS_GB_6.F.fq.gz.sam',\n",
       " '/home/faske/g/balsam/SNPcall/bowtie2/BS_GB_7.F.fq.gz.sam',\n",
       " '/home/faske/g/balsam/SNPcall/bowtie2/BS_GB_8.F.fq.gz.sam',\n",
       " '/home/faske/g/balsam/SNPcall/bowtie2/BS_GB_9.F.fq.gz.sam',\n",
       " '/home/faske/g/balsam/SNPcall/bowtie2/BS_GJ_1.F.fq.gz.sam',\n",
       " '/home/faske/g/balsam/SNPcall/bowtie2/BS_GJ_10.F.fq.gz.sam',\n",
       " '/home/faske/g/balsam/SNPcall/bowtie2/BS_GJ_11.F.fq.gz.sam',\n",
       " '/home/faske/g/balsam/SNPcall/bowtie2/BS_GJ_12.F.fq.gz.sam',\n",
       " '/home/faske/g/balsam/SNPcall/bowtie2/BS_GJ_2.F.fq.gz.sam',\n",
       " '/home/faske/g/balsam/SNPcall/bowtie2/BS_GJ_3.F.fq.gz.sam',\n",
       " '/home/faske/g/balsam/SNPcall/bowtie2/BS_GJ_4.F.fq.gz.sam',\n",
       " '/home/faske/g/balsam/SNPcall/bowtie2/BS_GJ_5.F.fq.gz.sam',\n",
       " '/home/faske/g/balsam/SNPcall/bowtie2/BS_GJ_6.F.fq.gz.sam',\n",
       " '/home/faske/g/balsam/SNPcall/bowtie2/BS_GJ_7.F.fq.gz.sam',\n",
       " '/home/faske/g/balsam/SNPcall/bowtie2/BS_GJ_8.F.fq.gz.sam',\n",
       " '/home/faske/g/balsam/SNPcall/bowtie2/BS_GJ_9.F.fq.gz.sam',\n",
       " '/home/faske/g/balsam/SNPcall/bowtie2/BS_JV_1.F.fq.gz.sam',\n",
       " '/home/faske/g/balsam/SNPcall/bowtie2/BS_JV_10.F.fq.gz.sam',\n",
       " '/home/faske/g/balsam/SNPcall/bowtie2/BS_JV_11.F.fq.gz.sam',\n",
       " '/home/faske/g/balsam/SNPcall/bowtie2/BS_JV_12.F.fq.gz.sam',\n",
       " '/home/faske/g/balsam/SNPcall/bowtie2/BS_JV_2.F.fq.gz.sam',\n",
       " '/home/faske/g/balsam/SNPcall/bowtie2/BS_JV_3.F.fq.gz.sam',\n",
       " '/home/faske/g/balsam/SNPcall/bowtie2/BS_JV_4.F.fq.gz.sam',\n",
       " '/home/faske/g/balsam/SNPcall/bowtie2/BS_JV_5.F.fq.gz.sam',\n",
       " '/home/faske/g/balsam/SNPcall/bowtie2/BS_JV_6.F.fq.gz.sam',\n",
       " '/home/faske/g/balsam/SNPcall/bowtie2/BS_JV_7.F.fq.gz.sam',\n",
       " '/home/faske/g/balsam/SNPcall/bowtie2/BS_JV_8.F.fq.gz.sam',\n",
       " '/home/faske/g/balsam/SNPcall/bowtie2/BS_JV_9.F.fq.gz.sam',\n",
       " '/home/faske/g/balsam/SNPcall/bowtie2/BS_KA_1.F.fq.gz.sam',\n",
       " '/home/faske/g/balsam/SNPcall/bowtie2/BS_KA_10.F.fq.gz.sam',\n",
       " '/home/faske/g/balsam/SNPcall/bowtie2/BS_KA_11.F.fq.gz.sam',\n",
       " '/home/faske/g/balsam/SNPcall/bowtie2/BS_KA_12.F.fq.gz.sam',\n",
       " '/home/faske/g/balsam/SNPcall/bowtie2/BS_KA_2.F.fq.gz.sam',\n",
       " '/home/faske/g/balsam/SNPcall/bowtie2/BS_KA_3.F.fq.gz.sam',\n",
       " '/home/faske/g/balsam/SNPcall/bowtie2/BS_KA_4.F.fq.gz.sam',\n",
       " '/home/faske/g/balsam/SNPcall/bowtie2/BS_KA_5.F.fq.gz.sam',\n",
       " '/home/faske/g/balsam/SNPcall/bowtie2/BS_KA_6.F.fq.gz.sam',\n",
       " '/home/faske/g/balsam/SNPcall/bowtie2/BS_KA_8.F.fq.gz.sam',\n",
       " '/home/faske/g/balsam/SNPcall/bowtie2/BS_KB_1.F.fq.gz.sam',\n",
       " '/home/faske/g/balsam/SNPcall/bowtie2/BS_KB_10.F.fq.gz.sam',\n",
       " '/home/faske/g/balsam/SNPcall/bowtie2/BS_KB_11.F.fq.gz.sam',\n",
       " '/home/faske/g/balsam/SNPcall/bowtie2/BS_KB_12.F.fq.gz.sam',\n",
       " '/home/faske/g/balsam/SNPcall/bowtie2/BS_KB_13.F.fq.gz.sam',\n",
       " '/home/faske/g/balsam/SNPcall/bowtie2/BS_KB_14.F.fq.gz.sam',\n",
       " '/home/faske/g/balsam/SNPcall/bowtie2/BS_KB_2.F.fq.gz.sam',\n",
       " '/home/faske/g/balsam/SNPcall/bowtie2/BS_KB_3.F.fq.gz.sam',\n",
       " '/home/faske/g/balsam/SNPcall/bowtie2/BS_KB_4.F.fq.gz.sam',\n",
       " '/home/faske/g/balsam/SNPcall/bowtie2/BS_KB_5.F.fq.gz.sam',\n",
       " '/home/faske/g/balsam/SNPcall/bowtie2/BS_KB_6.F.fq.gz.sam',\n",
       " '/home/faske/g/balsam/SNPcall/bowtie2/BS_KB_7.F.fq.gz.sam',\n",
       " '/home/faske/g/balsam/SNPcall/bowtie2/BS_KB_8.F.fq.gz.sam',\n",
       " '/home/faske/g/balsam/SNPcall/bowtie2/BS_KB_9.F.fq.gz.sam',\n",
       " '/home/faske/g/balsam/SNPcall/bowtie2/BS_KM_1.F.fq.gz.sam',\n",
       " '/home/faske/g/balsam/SNPcall/bowtie2/BS_KM_10.F.fq.gz.sam',\n",
       " '/home/faske/g/balsam/SNPcall/bowtie2/BS_KM_11.F.fq.gz.sam',\n",
       " '/home/faske/g/balsam/SNPcall/bowtie2/BS_KM_12.F.fq.gz.sam',\n",
       " '/home/faske/g/balsam/SNPcall/bowtie2/BS_KM_2.F.fq.gz.sam',\n",
       " '/home/faske/g/balsam/SNPcall/bowtie2/BS_KM_3.F.fq.gz.sam',\n",
       " '/home/faske/g/balsam/SNPcall/bowtie2/BS_KM_4.F.fq.gz.sam',\n",
       " '/home/faske/g/balsam/SNPcall/bowtie2/BS_KM_6.F.fq.gz.sam',\n",
       " '/home/faske/g/balsam/SNPcall/bowtie2/BS_KM_7.F.fq.gz.sam',\n",
       " '/home/faske/g/balsam/SNPcall/bowtie2/BS_KM_8.F.fq.gz.sam',\n",
       " '/home/faske/g/balsam/SNPcall/bowtie2/BS_KM_9.F.fq.gz.sam',\n",
       " '/home/faske/g/balsam/SNPcall/bowtie2/BS_LC_1.F.fq.gz.sam',\n",
       " '/home/faske/g/balsam/SNPcall/bowtie2/BS_LC_10.F.fq.gz.sam',\n",
       " '/home/faske/g/balsam/SNPcall/bowtie2/BS_LC_11.F.fq.gz.sam',\n",
       " '/home/faske/g/balsam/SNPcall/bowtie2/BS_LC_12.F.fq.gz.sam',\n",
       " '/home/faske/g/balsam/SNPcall/bowtie2/BS_LC_2.F.fq.gz.sam',\n",
       " '/home/faske/g/balsam/SNPcall/bowtie2/BS_LC_3.F.fq.gz.sam',\n",
       " '/home/faske/g/balsam/SNPcall/bowtie2/BS_LC_4.F.fq.gz.sam',\n",
       " '/home/faske/g/balsam/SNPcall/bowtie2/BS_LC_5.F.fq.gz.sam',\n",
       " '/home/faske/g/balsam/SNPcall/bowtie2/BS_LC_6.F.fq.gz.sam',\n",
       " '/home/faske/g/balsam/SNPcall/bowtie2/BS_LC_7.F.fq.gz.sam',\n",
       " '/home/faske/g/balsam/SNPcall/bowtie2/BS_LC_8.F.fq.gz.sam',\n",
       " '/home/faske/g/balsam/SNPcall/bowtie2/BS_LC_9.F.fq.gz.sam',\n",
       " '/home/faske/g/balsam/SNPcall/bowtie2/BS_LL_1.F.fq.gz.sam',\n",
       " '/home/faske/g/balsam/SNPcall/bowtie2/BS_LL_10.F.fq.gz.sam',\n",
       " '/home/faske/g/balsam/SNPcall/bowtie2/BS_LL_2.F.fq.gz.sam',\n",
       " '/home/faske/g/balsam/SNPcall/bowtie2/BS_LL_3.F.fq.gz.sam',\n",
       " '/home/faske/g/balsam/SNPcall/bowtie2/BS_LL_4.F.fq.gz.sam',\n",
       " '/home/faske/g/balsam/SNPcall/bowtie2/BS_LL_5.F.fq.gz.sam',\n",
       " '/home/faske/g/balsam/SNPcall/bowtie2/BS_LL_6.F.fq.gz.sam',\n",
       " '/home/faske/g/balsam/SNPcall/bowtie2/BS_LL_7.F.fq.gz.sam',\n",
       " '/home/faske/g/balsam/SNPcall/bowtie2/BS_LL_8.F.fq.gz.sam',\n",
       " '/home/faske/g/balsam/SNPcall/bowtie2/BS_LL_9.F.fq.gz.sam',\n",
       " '/home/faske/g/balsam/SNPcall/bowtie2/BS_LM_1.F.fq.gz.sam',\n",
       " '/home/faske/g/balsam/SNPcall/bowtie2/BS_LM_10.F.fq.gz.sam',\n",
       " '/home/faske/g/balsam/SNPcall/bowtie2/BS_LM_11.F.fq.gz.sam',\n",
       " '/home/faske/g/balsam/SNPcall/bowtie2/BS_LM_12.F.fq.gz.sam',\n",
       " '/home/faske/g/balsam/SNPcall/bowtie2/BS_LM_2.F.fq.gz.sam',\n",
       " '/home/faske/g/balsam/SNPcall/bowtie2/BS_LM_3.F.fq.gz.sam',\n",
       " '/home/faske/g/balsam/SNPcall/bowtie2/BS_LM_4.F.fq.gz.sam',\n",
       " '/home/faske/g/balsam/SNPcall/bowtie2/BS_LM_5.F.fq.gz.sam',\n",
       " '/home/faske/g/balsam/SNPcall/bowtie2/BS_LM_6.F.fq.gz.sam',\n",
       " '/home/faske/g/balsam/SNPcall/bowtie2/BS_LM_7.F.fq.gz.sam',\n",
       " '/home/faske/g/balsam/SNPcall/bowtie2/BS_LM_8.F.fq.gz.sam',\n",
       " '/home/faske/g/balsam/SNPcall/bowtie2/BS_LM_9.F.fq.gz.sam',\n",
       " '/home/faske/g/balsam/SNPcall/bowtie2/BS_MM_1.F.fq.gz.sam',\n",
       " '/home/faske/g/balsam/SNPcall/bowtie2/BS_MM_10.F.fq.gz.sam',\n",
       " '/home/faske/g/balsam/SNPcall/bowtie2/BS_MM_11.F.fq.gz.sam',\n",
       " '/home/faske/g/balsam/SNPcall/bowtie2/BS_MM_12.F.fq.gz.sam',\n",
       " '/home/faske/g/balsam/SNPcall/bowtie2/BS_MM_2.F.fq.gz.sam',\n",
       " '/home/faske/g/balsam/SNPcall/bowtie2/BS_MM_3.F.fq.gz.sam',\n",
       " '/home/faske/g/balsam/SNPcall/bowtie2/BS_MM_4.F.fq.gz.sam',\n",
       " '/home/faske/g/balsam/SNPcall/bowtie2/BS_MM_5.F.fq.gz.sam',\n",
       " '/home/faske/g/balsam/SNPcall/bowtie2/BS_MM_6.F.fq.gz.sam',\n",
       " '/home/faske/g/balsam/SNPcall/bowtie2/BS_MM_7.F.fq.gz.sam',\n",
       " '/home/faske/g/balsam/SNPcall/bowtie2/BS_MM_8.F.fq.gz.sam',\n",
       " '/home/faske/g/balsam/SNPcall/bowtie2/BS_MM_9.F.fq.gz.sam',\n",
       " '/home/faske/g/balsam/SNPcall/bowtie2/BS_MT_1.F.fq.gz.sam',\n",
       " '/home/faske/g/balsam/SNPcall/bowtie2/BS_MT_10.F.fq.gz.sam',\n",
       " '/home/faske/g/balsam/SNPcall/bowtie2/BS_MT_11.F.fq.gz.sam',\n",
       " '/home/faske/g/balsam/SNPcall/bowtie2/BS_MT_12.F.fq.gz.sam',\n",
       " '/home/faske/g/balsam/SNPcall/bowtie2/BS_MT_2.F.fq.gz.sam',\n",
       " '/home/faske/g/balsam/SNPcall/bowtie2/BS_MT_3.F.fq.gz.sam',\n",
       " '/home/faske/g/balsam/SNPcall/bowtie2/BS_MT_4.F.fq.gz.sam',\n",
       " '/home/faske/g/balsam/SNPcall/bowtie2/BS_MT_5.F.fq.gz.sam',\n",
       " '/home/faske/g/balsam/SNPcall/bowtie2/BS_MT_6.F.fq.gz.sam',\n",
       " '/home/faske/g/balsam/SNPcall/bowtie2/BS_MT_7.F.fq.gz.sam',\n",
       " '/home/faske/g/balsam/SNPcall/bowtie2/BS_MT_8.F.fq.gz.sam',\n",
       " '/home/faske/g/balsam/SNPcall/bowtie2/BS_MT_9.F.fq.gz.sam',\n",
       " '/home/faske/g/balsam/SNPcall/bowtie2/BS_QG_1.F.fq.gz.sam',\n",
       " '/home/faske/g/balsam/SNPcall/bowtie2/BS_QG_10.F.fq.gz.sam',\n",
       " '/home/faske/g/balsam/SNPcall/bowtie2/BS_QG_11.F.fq.gz.sam',\n",
       " '/home/faske/g/balsam/SNPcall/bowtie2/BS_QG_12.F.fq.gz.sam',\n",
       " '/home/faske/g/balsam/SNPcall/bowtie2/BS_QG_2.F.fq.gz.sam',\n",
       " '/home/faske/g/balsam/SNPcall/bowtie2/BS_QG_3.F.fq.gz.sam',\n",
       " '/home/faske/g/balsam/SNPcall/bowtie2/BS_QG_4.F.fq.gz.sam',\n",
       " '/home/faske/g/balsam/SNPcall/bowtie2/BS_QG_5.F.fq.gz.sam',\n",
       " '/home/faske/g/balsam/SNPcall/bowtie2/BS_QG_6.F.fq.gz.sam',\n",
       " '/home/faske/g/balsam/SNPcall/bowtie2/BS_QG_7.F.fq.gz.sam',\n",
       " '/home/faske/g/balsam/SNPcall/bowtie2/BS_QG_8.F.fq.gz.sam',\n",
       " '/home/faske/g/balsam/SNPcall/bowtie2/BS_QG_9.F.fq.gz.sam',\n",
       " '/home/faske/g/balsam/SNPcall/bowtie2/BS_RC_1.F.fq.gz.sam',\n",
       " '/home/faske/g/balsam/SNPcall/bowtie2/BS_RC_10.F.fq.gz.sam',\n",
       " '/home/faske/g/balsam/SNPcall/bowtie2/BS_RC_11.F.fq.gz.sam',\n",
       " '/home/faske/g/balsam/SNPcall/bowtie2/BS_RC_12.F.fq.gz.sam',\n",
       " '/home/faske/g/balsam/SNPcall/bowtie2/BS_RC_2.F.fq.gz.sam',\n",
       " '/home/faske/g/balsam/SNPcall/bowtie2/BS_RC_3.F.fq.gz.sam',\n",
       " '/home/faske/g/balsam/SNPcall/bowtie2/BS_RC_4.F.fq.gz.sam',\n",
       " '/home/faske/g/balsam/SNPcall/bowtie2/BS_RC_5.F.fq.gz.sam',\n",
       " '/home/faske/g/balsam/SNPcall/bowtie2/BS_RC_6.F.fq.gz.sam',\n",
       " '/home/faske/g/balsam/SNPcall/bowtie2/BS_RC_7.F.fq.gz.sam',\n",
       " '/home/faske/g/balsam/SNPcall/bowtie2/BS_RC_8.F.fq.gz.sam',\n",
       " '/home/faske/g/balsam/SNPcall/bowtie2/BS_RC_9.F.fq.gz.sam',\n",
       " '/home/faske/g/balsam/SNPcall/bowtie2/BS_RL_1.F.fq.gz.sam',\n",
       " '/home/faske/g/balsam/SNPcall/bowtie2/BS_RL_10.F.fq.gz.sam',\n",
       " '/home/faske/g/balsam/SNPcall/bowtie2/BS_RL_11.F.fq.gz.sam',\n",
       " '/home/faske/g/balsam/SNPcall/bowtie2/BS_RL_12.F.fq.gz.sam',\n",
       " '/home/faske/g/balsam/SNPcall/bowtie2/BS_RL_2.F.fq.gz.sam',\n",
       " '/home/faske/g/balsam/SNPcall/bowtie2/BS_RL_3.F.fq.gz.sam',\n",
       " '/home/faske/g/balsam/SNPcall/bowtie2/BS_RL_4.F.fq.gz.sam',\n",
       " '/home/faske/g/balsam/SNPcall/bowtie2/BS_RL_5.F.fq.gz.sam',\n",
       " '/home/faske/g/balsam/SNPcall/bowtie2/BS_RL_6.F.fq.gz.sam',\n",
       " '/home/faske/g/balsam/SNPcall/bowtie2/BS_RL_7.F.fq.gz.sam',\n",
       " '/home/faske/g/balsam/SNPcall/bowtie2/BS_RL_8.F.fq.gz.sam',\n",
       " '/home/faske/g/balsam/SNPcall/bowtie2/BS_RL_9.F.fq.gz.sam',\n",
       " '/home/faske/g/balsam/SNPcall/bowtie2/BS_RP_1.F.fq.gz.sam',\n",
       " '/home/faske/g/balsam/SNPcall/bowtie2/BS_RP_10.F.fq.gz.sam',\n",
       " '/home/faske/g/balsam/SNPcall/bowtie2/BS_RP_11.F.fq.gz.sam',\n",
       " '/home/faske/g/balsam/SNPcall/bowtie2/BS_RP_12.F.fq.gz.sam',\n",
       " '/home/faske/g/balsam/SNPcall/bowtie2/BS_RP_2.F.fq.gz.sam',\n",
       " '/home/faske/g/balsam/SNPcall/bowtie2/BS_RP_4.F.fq.gz.sam',\n",
       " '/home/faske/g/balsam/SNPcall/bowtie2/BS_RP_5.F.fq.gz.sam',\n",
       " '/home/faske/g/balsam/SNPcall/bowtie2/BS_RP_6.F.fq.gz.sam',\n",
       " '/home/faske/g/balsam/SNPcall/bowtie2/BS_RP_7.F.fq.gz.sam',\n",
       " '/home/faske/g/balsam/SNPcall/bowtie2/BS_RP_8.F.fq.gz.sam',\n",
       " '/home/faske/g/balsam/SNPcall/bowtie2/BS_RP_9.F.fq.gz.sam',\n",
       " '/home/faske/g/balsam/SNPcall/bowtie2/BS_SC_1.F.fq.gz.sam',\n",
       " '/home/faske/g/balsam/SNPcall/bowtie2/BS_SC_10.F.fq.gz.sam',\n",
       " '/home/faske/g/balsam/SNPcall/bowtie2/BS_SC_11.F.fq.gz.sam',\n",
       " '/home/faske/g/balsam/SNPcall/bowtie2/BS_SC_12.F.fq.gz.sam',\n",
       " '/home/faske/g/balsam/SNPcall/bowtie2/BS_SC_2.F.fq.gz.sam',\n",
       " '/home/faske/g/balsam/SNPcall/bowtie2/BS_SC_3.F.fq.gz.sam',\n",
       " '/home/faske/g/balsam/SNPcall/bowtie2/BS_SC_4.F.fq.gz.sam',\n",
       " '/home/faske/g/balsam/SNPcall/bowtie2/BS_SC_5.F.fq.gz.sam',\n",
       " '/home/faske/g/balsam/SNPcall/bowtie2/BS_SC_6.F.fq.gz.sam',\n",
       " '/home/faske/g/balsam/SNPcall/bowtie2/BS_SC_7.F.fq.gz.sam',\n",
       " '/home/faske/g/balsam/SNPcall/bowtie2/BS_SC_8.F.fq.gz.sam',\n",
       " '/home/faske/g/balsam/SNPcall/bowtie2/BS_SC_9.F.fq.gz.sam',\n",
       " '/home/faske/g/balsam/SNPcall/bowtie2/BS_SD_1.F.fq.gz.sam',\n",
       " '/home/faske/g/balsam/SNPcall/bowtie2/BS_SD_10.F.fq.gz.sam',\n",
       " '/home/faske/g/balsam/SNPcall/bowtie2/BS_SD_11.F.fq.gz.sam',\n",
       " '/home/faske/g/balsam/SNPcall/bowtie2/BS_SD_12.F.fq.gz.sam',\n",
       " '/home/faske/g/balsam/SNPcall/bowtie2/BS_SD_2.F.fq.gz.sam',\n",
       " '/home/faske/g/balsam/SNPcall/bowtie2/BS_SD_3.F.fq.gz.sam',\n",
       " '/home/faske/g/balsam/SNPcall/bowtie2/BS_SD_4.F.fq.gz.sam',\n",
       " '/home/faske/g/balsam/SNPcall/bowtie2/BS_SD_5.F.fq.gz.sam',\n",
       " '/home/faske/g/balsam/SNPcall/bowtie2/BS_SD_6.F.fq.gz.sam',\n",
       " '/home/faske/g/balsam/SNPcall/bowtie2/BS_SD_7.F.fq.gz.sam',\n",
       " '/home/faske/g/balsam/SNPcall/bowtie2/BS_SD_8.F.fq.gz.sam',\n",
       " '/home/faske/g/balsam/SNPcall/bowtie2/BS_SD_9.F.fq.gz.sam',\n",
       " '/home/faske/g/balsam/SNPcall/bowtie2/BS_SL_1.F.fq.gz.sam',\n",
       " '/home/faske/g/balsam/SNPcall/bowtie2/BS_SL_10.F.fq.gz.sam',\n",
       " '/home/faske/g/balsam/SNPcall/bowtie2/BS_SL_11.F.fq.gz.sam',\n",
       " '/home/faske/g/balsam/SNPcall/bowtie2/BS_SL_12.F.fq.gz.sam',\n",
       " '/home/faske/g/balsam/SNPcall/bowtie2/BS_SL_2.F.fq.gz.sam',\n",
       " '/home/faske/g/balsam/SNPcall/bowtie2/BS_SL_3.F.fq.gz.sam',\n",
       " '/home/faske/g/balsam/SNPcall/bowtie2/BS_SL_4.F.fq.gz.sam',\n",
       " '/home/faske/g/balsam/SNPcall/bowtie2/BS_SL_5.F.fq.gz.sam',\n",
       " '/home/faske/g/balsam/SNPcall/bowtie2/BS_SL_6.F.fq.gz.sam',\n",
       " '/home/faske/g/balsam/SNPcall/bowtie2/BS_SL_7.F.fq.gz.sam',\n",
       " '/home/faske/g/balsam/SNPcall/bowtie2/BS_SL_8.F.fq.gz.sam',\n",
       " '/home/faske/g/balsam/SNPcall/bowtie2/BS_SL_9.F.fq.gz.sam',\n",
       " '/home/faske/g/balsam/SNPcall/bowtie2/BS_SP_1.F.fq.gz.sam',\n",
       " '/home/faske/g/balsam/SNPcall/bowtie2/BS_SP_10.F.fq.gz.sam',\n",
       " '/home/faske/g/balsam/SNPcall/bowtie2/BS_SP_2.F.fq.gz.sam',\n",
       " '/home/faske/g/balsam/SNPcall/bowtie2/BS_SP_3.F.fq.gz.sam',\n",
       " '/home/faske/g/balsam/SNPcall/bowtie2/BS_SP_4.F.fq.gz.sam',\n",
       " '/home/faske/g/balsam/SNPcall/bowtie2/BS_SP_5.F.fq.gz.sam',\n",
       " '/home/faske/g/balsam/SNPcall/bowtie2/BS_SP_6.F.fq.gz.sam',\n",
       " '/home/faske/g/balsam/SNPcall/bowtie2/BS_SP_7.F.fq.gz.sam',\n",
       " '/home/faske/g/balsam/SNPcall/bowtie2/BS_SP_8.F.fq.gz.sam',\n",
       " '/home/faske/g/balsam/SNPcall/bowtie2/BS_SP_9.F.fq.gz.sam',\n",
       " '/home/faske/g/balsam/SNPcall/bowtie2/BS_SY_1.F.fq.gz.sam',\n",
       " '/home/faske/g/balsam/SNPcall/bowtie2/BS_SY_10.F.fq.gz.sam',\n",
       " '/home/faske/g/balsam/SNPcall/bowtie2/BS_SY_11.F.fq.gz.sam',\n",
       " '/home/faske/g/balsam/SNPcall/bowtie2/BS_SY_12.F.fq.gz.sam',\n",
       " '/home/faske/g/balsam/SNPcall/bowtie2/BS_SY_2.F.fq.gz.sam',\n",
       " '/home/faske/g/balsam/SNPcall/bowtie2/BS_SY_3.F.fq.gz.sam',\n",
       " '/home/faske/g/balsam/SNPcall/bowtie2/BS_SY_4.F.fq.gz.sam',\n",
       " '/home/faske/g/balsam/SNPcall/bowtie2/BS_SY_5.F.fq.gz.sam',\n",
       " '/home/faske/g/balsam/SNPcall/bowtie2/BS_SY_6.F.fq.gz.sam',\n",
       " '/home/faske/g/balsam/SNPcall/bowtie2/BS_SY_7.F.fq.gz.sam',\n",
       " '/home/faske/g/balsam/SNPcall/bowtie2/BS_SY_8.F.fq.gz.sam',\n",
       " '/home/faske/g/balsam/SNPcall/bowtie2/BS_SY_9.F.fq.gz.sam',\n",
       " '/home/faske/g/balsam/SNPcall/bowtie2/BS_TM_1.F.fq.gz.sam',\n",
       " '/home/faske/g/balsam/SNPcall/bowtie2/BS_TM_10.F.fq.gz.sam',\n",
       " '/home/faske/g/balsam/SNPcall/bowtie2/BS_TM_2.F.fq.gz.sam',\n",
       " '/home/faske/g/balsam/SNPcall/bowtie2/BS_TM_3.F.fq.gz.sam',\n",
       " '/home/faske/g/balsam/SNPcall/bowtie2/BS_TM_4.F.fq.gz.sam',\n",
       " '/home/faske/g/balsam/SNPcall/bowtie2/BS_TM_5.F.fq.gz.sam',\n",
       " '/home/faske/g/balsam/SNPcall/bowtie2/BS_TM_6.F.fq.gz.sam',\n",
       " '/home/faske/g/balsam/SNPcall/bowtie2/BS_TM_7.F.fq.gz.sam',\n",
       " '/home/faske/g/balsam/SNPcall/bowtie2/BS_TM_8.F.fq.gz.sam',\n",
       " '/home/faske/g/balsam/SNPcall/bowtie2/BS_TM_9.F.fq.gz.sam',\n",
       " '/home/faske/g/balsam/SNPcall/bowtie2/BS_WC_1.F.fq.gz.sam',\n",
       " '/home/faske/g/balsam/SNPcall/bowtie2/BS_WC_10.F.fq.gz.sam',\n",
       " '/home/faske/g/balsam/SNPcall/bowtie2/BS_WC_11.F.fq.gz.sam',\n",
       " '/home/faske/g/balsam/SNPcall/bowtie2/BS_WC_12.F.fq.gz.sam',\n",
       " '/home/faske/g/balsam/SNPcall/bowtie2/BS_WC_2.F.fq.gz.sam',\n",
       " '/home/faske/g/balsam/SNPcall/bowtie2/BS_WC_3.F.fq.gz.sam',\n",
       " '/home/faske/g/balsam/SNPcall/bowtie2/BS_WC_4.F.fq.gz.sam',\n",
       " '/home/faske/g/balsam/SNPcall/bowtie2/BS_WC_5.F.fq.gz.sam',\n",
       " '/home/faske/g/balsam/SNPcall/bowtie2/BS_WC_6.F.fq.gz.sam',\n",
       " '/home/faske/g/balsam/SNPcall/bowtie2/BS_WC_7.F.fq.gz.sam',\n",
       " '/home/faske/g/balsam/SNPcall/bowtie2/BS_WC_8.F.fq.gz.sam',\n",
       " '/home/faske/g/balsam/SNPcall/bowtie2/BS_WC_9.F.fq.gz.sam']"
      ]
     },
     "execution_count": 38,
     "metadata": {},
     "output_type": "execute_result"
    }
   ],
   "source": [
    "sams"
   ]
  },
  {
   "cell_type": "code",
   "execution_count": 39,
   "metadata": {},
   "outputs": [],
   "source": [
    "SNPcall_dir = os.path.join(root,'SNPcall')\n",
    "assert(SNPcall_dir)"
   ]
  },
  {
   "cell_type": "code",
   "execution_count": 40,
   "metadata": {
    "ExecuteTime": {}
   },
   "outputs": [
    {
     "name": "stdout",
     "output_type": "stream",
     "text": [
      "/working/tfaske/balsam/SNPcall\n"
     ]
    }
   ],
   "source": [
    "cd $SNPcall_dir"
   ]
  },
  {
   "cell_type": "code",
   "execution_count": 41,
   "metadata": {},
   "outputs": [],
   "source": [
    "def write_sam2bam_sh(sam):\n",
    "    with open(\"./run_sam2bam.sh\", \"w\") as o:\n",
    "        o.write(\"\"\"#!/bin/bash\n",
    "#$ -S /bin/bash\n",
    "#$ -cwd\n",
    "#$ -o sam2bam.out\n",
    "#$ -e sam2bam.err\n",
    "source activate py36\\n\"\"\")\n",
    "        for s in sam:\n",
    "            bam = s.replace(\".sam\", \".bam\")\n",
    "            bam_sorted = \"%s_sorted.bam\" % bam.replace(\".bam\", \"\")\n",
    "            o.write(\"samtools view -b {0} -o {1}\\nsamtools sort -@ 16 {1} -o {2}\\nsamtools index {2}\\n\".format(s,bam,bam_sorted))"
   ]
  },
  {
   "cell_type": "code",
   "execution_count": 42,
   "metadata": {},
   "outputs": [],
   "source": [
    "write_sam2bam_sh(sams)"
   ]
  },
  {
   "cell_type": "markdown",
   "metadata": {
    "ExecuteTime": {}
   },
   "source": [
    "# run_sam2bam.sh\n",
    "    cd /working/tfaske/piper/retic/SNPcall \n",
    "    bash run_sam2bam.sh &> sam2bam.out & \n",
    "    disown -h \n",
    "    close window\n"
   ]
  },
  {
   "cell_type": "code",
   "execution_count": 38,
   "metadata": {
    "ExecuteTime": {}
   },
   "outputs": [
    {
     "ename": "SyntaxError",
     "evalue": "invalid syntax (<ipython-input-38-3c875eecaf82>, line 3)",
     "output_type": "error",
     "traceback": [
      "\u001b[1;36m  File \u001b[1;32m\"<ipython-input-38-3c875eecaf82>\"\u001b[1;36m, line \u001b[1;32m3\u001b[0m\n\u001b[1;33m    cd $root\u001b[0m\n\u001b[1;37m       ^\u001b[0m\n\u001b[1;31mSyntaxError\u001b[0m\u001b[1;31m:\u001b[0m invalid syntax\n"
     ]
    }
   ],
   "source": [
    "#u.get_async_progress(sam_bam_jobs)\n",
    "#sam_bam_jobs"
   ]
  },
  {
   "cell_type": "code",
   "execution_count": 43,
   "metadata": {},
   "outputs": [
    {
     "name": "stdout",
     "output_type": "stream",
     "text": [
      "/working/tfaske/balsam/SNPcall/bowtie2\n"
     ]
    }
   ],
   "source": [
    "cd $bowtie_dir"
   ]
  },
  {
   "cell_type": "code",
   "execution_count": 48,
   "metadata": {
    "ExecuteTime": {}
   },
   "outputs": [
    {
     "data": {
      "text/plain": [
       "(373, 373, 373)"
      ]
     },
     "execution_count": 48,
     "metadata": {},
     "output_type": "execute_result"
    }
   ],
   "source": [
    "sorted_bams = []\n",
    "files = !find . -type f -name '*sorted.bam'\n",
    "files = [os.path.abspath(x) for x in files if 'bam' in x]\n",
    "for x in files:\n",
    "    sorted_bams.append(x)\n",
    "sorted_bams = sorted(sorted_bams)\n",
    "\n",
    "#assert len(sorted_bams) == len(fastq_files)\n",
    "\n",
    "len(sorted_bams), len(fqs), len(sams)\n",
    "#missing 3 bam files from lane1"
   ]
  },
  {
   "cell_type": "code",
   "execution_count": null,
   "metadata": {
    "collapsed": true
   },
   "outputs": [],
   "source": []
  }
 ],
 "metadata": {
  "kernelspec": {
   "display_name": "Python 3",
   "language": "python",
   "name": "python3"
  },
  "language_info": {
   "codemirror_mode": {
    "name": "ipython",
    "version": 3
   },
   "file_extension": ".py",
   "mimetype": "text/x-python",
   "name": "python",
   "nbconvert_exporter": "python",
   "pygments_lexer": "ipython3",
   "version": "3.6.7"
  }
 },
 "nbformat": 4,
 "nbformat_minor": 1
}

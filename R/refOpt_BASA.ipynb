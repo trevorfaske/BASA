{
 "cells": [
  {
   "cell_type": "code",
   "execution_count": 1,
   "metadata": {},
   "outputs": [
    {
     "name": "stderr",
     "output_type": "stream",
     "text": [
      "Loading required package: viridisLite\n",
      "\n",
      "Loading required package: usethis\n",
      "\n"
     ]
    }
   ],
   "source": [
    "library(data.table)\n",
    "library(ggplot2)\n",
    "library(ggsci)\n",
    "library(viridis)\n",
    "library(devtools)\n",
    "library(readr)\n",
    "library(plyr)"
   ]
  },
  {
   "cell_type": "code",
   "execution_count": 2,
   "metadata": {},
   "outputs": [],
   "source": [
    "setwd('~/g/balsam/refOpt')"
   ]
  },
  {
   "cell_type": "code",
   "execution_count": 3,
   "metadata": {},
   "outputs": [],
   "source": [
    "Pop_ID <- read.csv('../Pop_ID.csv')"
   ]
  },
  {
   "cell_type": "code",
   "execution_count": 4,
   "metadata": {},
   "outputs": [
    {
     "data": {
      "text/html": [
       "<table>\n",
       "<caption>A data.frame: 31 × 2</caption>\n",
       "<thead>\n",
       "\t<tr><th scope=col>Pop</th><th scope=col>freq</th></tr>\n",
       "\t<tr><th scope=col>&lt;fct&gt;</th><th scope=col>&lt;int&gt;</th></tr>\n",
       "</thead>\n",
       "<tbody>\n",
       "\t<tr><td>AN</td><td>12</td></tr>\n",
       "\t<tr><td>AS</td><td>11</td></tr>\n",
       "\t<tr><td>BB</td><td> 9</td></tr>\n",
       "\t<tr><td>BH</td><td>12</td></tr>\n",
       "\t<tr><td>CC</td><td>12</td></tr>\n",
       "\t<tr><td>CF</td><td> 9</td></tr>\n",
       "\t<tr><td>CL</td><td>11</td></tr>\n",
       "\t<tr><td>CN</td><td> 9</td></tr>\n",
       "\t<tr><td>EC</td><td>12</td></tr>\n",
       "\t<tr><td>GA</td><td>11</td></tr>\n",
       "\t<tr><td>GB</td><td>10</td></tr>\n",
       "\t<tr><td>GJ</td><td>10</td></tr>\n",
       "\t<tr><td>JV</td><td>10</td></tr>\n",
       "\t<tr><td>KA</td><td> 9</td></tr>\n",
       "\t<tr><td>KB</td><td>12</td></tr>\n",
       "\t<tr><td>LC</td><td>10</td></tr>\n",
       "\t<tr><td>LL</td><td>10</td></tr>\n",
       "\t<tr><td>LM</td><td>10</td></tr>\n",
       "\t<tr><td>MM</td><td>11</td></tr>\n",
       "\t<tr><td>MT</td><td>12</td></tr>\n",
       "\t<tr><td>QG</td><td>12</td></tr>\n",
       "\t<tr><td>RC</td><td>12</td></tr>\n",
       "\t<tr><td>RL</td><td>11</td></tr>\n",
       "\t<tr><td>RP</td><td>10</td></tr>\n",
       "\t<tr><td>SC</td><td>12</td></tr>\n",
       "\t<tr><td>SD</td><td>12</td></tr>\n",
       "\t<tr><td>SL</td><td>11</td></tr>\n",
       "\t<tr><td>SP</td><td>10</td></tr>\n",
       "\t<tr><td>SY</td><td>12</td></tr>\n",
       "\t<tr><td>TM</td><td>10</td></tr>\n",
       "\t<tr><td>WC</td><td>11</td></tr>\n",
       "</tbody>\n",
       "</table>\n"
      ],
      "text/latex": [
       "A data.frame: 31 × 2\n",
       "\\begin{tabular}{ll}\n",
       " Pop & freq\\\\\n",
       " <fct> & <int>\\\\\n",
       "\\hline\n",
       "\t AN & 12\\\\\n",
       "\t AS & 11\\\\\n",
       "\t BB &  9\\\\\n",
       "\t BH & 12\\\\\n",
       "\t CC & 12\\\\\n",
       "\t CF &  9\\\\\n",
       "\t CL & 11\\\\\n",
       "\t CN &  9\\\\\n",
       "\t EC & 12\\\\\n",
       "\t GA & 11\\\\\n",
       "\t GB & 10\\\\\n",
       "\t GJ & 10\\\\\n",
       "\t JV & 10\\\\\n",
       "\t KA &  9\\\\\n",
       "\t KB & 12\\\\\n",
       "\t LC & 10\\\\\n",
       "\t LL & 10\\\\\n",
       "\t LM & 10\\\\\n",
       "\t MM & 11\\\\\n",
       "\t MT & 12\\\\\n",
       "\t QG & 12\\\\\n",
       "\t RC & 12\\\\\n",
       "\t RL & 11\\\\\n",
       "\t RP & 10\\\\\n",
       "\t SC & 12\\\\\n",
       "\t SD & 12\\\\\n",
       "\t SL & 11\\\\\n",
       "\t SP & 10\\\\\n",
       "\t SY & 12\\\\\n",
       "\t TM & 10\\\\\n",
       "\t WC & 11\\\\\n",
       "\\end{tabular}\n"
      ],
      "text/markdown": [
       "\n",
       "A data.frame: 31 × 2\n",
       "\n",
       "| Pop &lt;fct&gt; | freq &lt;int&gt; |\n",
       "|---|---|\n",
       "| AN | 12 |\n",
       "| AS | 11 |\n",
       "| BB |  9 |\n",
       "| BH | 12 |\n",
       "| CC | 12 |\n",
       "| CF |  9 |\n",
       "| CL | 11 |\n",
       "| CN |  9 |\n",
       "| EC | 12 |\n",
       "| GA | 11 |\n",
       "| GB | 10 |\n",
       "| GJ | 10 |\n",
       "| JV | 10 |\n",
       "| KA |  9 |\n",
       "| KB | 12 |\n",
       "| LC | 10 |\n",
       "| LL | 10 |\n",
       "| LM | 10 |\n",
       "| MM | 11 |\n",
       "| MT | 12 |\n",
       "| QG | 12 |\n",
       "| RC | 12 |\n",
       "| RL | 11 |\n",
       "| RP | 10 |\n",
       "| SC | 12 |\n",
       "| SD | 12 |\n",
       "| SL | 11 |\n",
       "| SP | 10 |\n",
       "| SY | 12 |\n",
       "| TM | 10 |\n",
       "| WC | 11 |\n",
       "\n"
      ],
      "text/plain": [
       "   Pop freq\n",
       "1  AN  12  \n",
       "2  AS  11  \n",
       "3  BB   9  \n",
       "4  BH  12  \n",
       "5  CC  12  \n",
       "6  CF   9  \n",
       "7  CL  11  \n",
       "8  CN   9  \n",
       "9  EC  12  \n",
       "10 GA  11  \n",
       "11 GB  10  \n",
       "12 GJ  10  \n",
       "13 JV  10  \n",
       "14 KA   9  \n",
       "15 KB  12  \n",
       "16 LC  10  \n",
       "17 LL  10  \n",
       "18 LM  10  \n",
       "19 MM  11  \n",
       "20 MT  12  \n",
       "21 QG  12  \n",
       "22 RC  12  \n",
       "23 RL  11  \n",
       "24 RP  10  \n",
       "25 SC  12  \n",
       "26 SD  12  \n",
       "27 SL  11  \n",
       "28 SP  10  \n",
       "29 SY  12  \n",
       "30 TM  10  \n",
       "31 WC  11  "
      ]
     },
     "metadata": {},
     "output_type": "display_data"
    }
   ],
   "source": [
    "#count(Pop_ID,vars='Pop')\n",
    "#31 populations \n",
    "#min 9 \n",
    "#max 12"
   ]
  },
  {
   "cell_type": "code",
   "execution_count": 12,
   "metadata": {},
   "outputs": [
    {
     "data": {
      "text/html": [
       "93"
      ],
      "text/latex": [
       "93"
      ],
      "text/markdown": [
       "93"
      ],
      "text/plain": [
       "[1] 93"
      ]
     },
     "metadata": {},
     "output_type": "display_data"
    },
    {
     "data": {
      "text/html": [
       "'BS_AN_12'"
      ],
      "text/latex": [
       "'BS\\_AN\\_12'"
      ],
      "text/markdown": [
       "'BS_AN_12'"
      ],
      "text/plain": [
       "[1] \"BS_AN_12\""
      ]
     },
     "metadata": {},
     "output_type": "display_data"
    }
   ],
   "source": [
    "### randomly sample 3 from each population\n",
    "pop_unique <- unique(Pop_ID$Pop)\n",
    "\n",
    "fq_list <- vector('character') \n",
    "for (i in 1:length(pop_unique)){\n",
    "  fq <- as.character(Pop_ID$All[which(Pop_ID$Pop == pop_unique[i])])\n",
    "  fq_rand <- sample(fq,3)\n",
    "  fq_list <- c(fq_list,fq_rand)\n",
    "}\n",
    "length(fq_list)\n",
    "fq_list[1]"
   ]
  },
  {
   "cell_type": "code",
   "execution_count": 15,
   "metadata": {},
   "outputs": [
    {
     "data": {
      "text/html": [
       "'cp /data/gpfs/home/tfaske/g/balsam/ddocent/BS_AN_7.F.fq.gz /data/gpfs/home/tfaske/g/balsam/refOpt'"
      ],
      "text/latex": [
       "'cp /data/gpfs/home/tfaske/g/balsam/ddocent/BS\\_AN\\_7.F.fq.gz /data/gpfs/home/tfaske/g/balsam/refOpt'"
      ],
      "text/markdown": [
       "'cp /data/gpfs/home/tfaske/g/balsam/ddocent/BS_AN_7.F.fq.gz /data/gpfs/home/tfaske/g/balsam/refOpt'"
      ],
      "text/plain": [
       "[1] \"cp /data/gpfs/home/tfaske/g/balsam/ddocent/BS_AN_7.F.fq.gz /data/gpfs/home/tfaske/g/balsam/refOpt\""
      ]
     },
     "metadata": {},
     "output_type": "display_data"
    }
   ],
   "source": [
    "### cp fastqs and move to refOpt dir ###\n",
    "fq_files <- paste0('cp /data/gpfs/home/tfaske/g/balsam/ddocent/',fq_list,'.F.fq.gz')\n",
    "fq_files <- paste0(fq_files,\" /data/gpfs/home/tfaske/g/balsam/refOpt\")\n",
    "fq_files[2]\n",
    "\n",
    "cp_fq_files <- c('#!/usr/bin/',fq_files)\n",
    "\n",
    "write.table(cp_fq_files,\"cp_ref.sh\",\n",
    "            sep = \"\\n\",quote = F,row.names = F,col.names = F)"
   ]
  },
  {
   "cell_type": "markdown",
   "metadata": {},
   "source": [
    "# run refOpt.sh in slurm \n",
    "    cd /data/gpfs/home/tfaske/g/balsam/refOpt\n",
    "    \n",
    "    ##ReferenceOpt.sh minK1 maxK1 minK2 maxK2 Assembly_Type Processors\n",
    "    bash ReferenceOpt.sh 6 20 6 20 SE 32"
   ]
  },
  {
   "cell_type": "code",
   "execution_count": null,
   "metadata": {},
   "outputs": [],
   "source": [
    "refOpt = '/data/gpfs/home/tfaske/g/src/refOpt'"
   ]
  }
 ],
 "metadata": {
  "kernelspec": {
   "display_name": "R",
   "language": "R",
   "name": "ir"
  },
  "language_info": {
   "codemirror_mode": "r",
   "file_extension": ".r",
   "mimetype": "text/x-r-source",
   "name": "R",
   "pygments_lexer": "r",
   "version": "3.6.0"
  }
 },
 "nbformat": 4,
 "nbformat_minor": 4
}

{
 "cells": [
  {
   "cell_type": "code",
   "execution_count": 1,
   "metadata": {},
   "outputs": [],
   "source": [
    "!source activate py36"
   ]
  },
  {
   "cell_type": "code",
   "execution_count": 2,
   "metadata": {},
   "outputs": [],
   "source": [
    "import sys\n",
    "\n",
    "sys.path.append('/home/faske/g/anaconda3/envs/py36/lib/python3.6/site-packages')\n",
    "sys.path.append(\"/home/faske/g/ipynb/include_utils\")\n",
    "\n",
    "import ipyparallel as ipp\n",
    "import os, time\n",
    "import include_utils as u\n",
    "import pandas as pd\n",
    "import numpy as np\n",
    "import scipy as sp\n",
    "import numbers\n",
    "import matplotlib.pyplot as plt\n",
    "import matplotlib.patches as mpatches\n",
    "import matplotlib.cm as cm\n",
    "import matplotlib.colors as mcolors\n",
    "#import vcf\n",
    "from sklearn import preprocessing\n",
    "from subprocess import Popen, PIPE, call, check_output\n",
    "import seaborn as sns\n",
    "from IPython.display import FileLink\n",
    "import urllib.request as urllib2\n",
    "import dill\n",
    "import traceback\n",
    "from pandas import Series, DataFrame\n",
    "import gzip\n",
    "import warnings\n",
    "warnings.filterwarnings('ignore',category=pd.io.pytables.PerformanceWarning)\n",
    "%config InlineBackend.figure_format = 'retina'\n",
    "from Bio import SeqIO\n",
    "#import pysam\n",
    "from collections import OrderedDict, namedtuple, Counter\n",
    "import operator\n",
    "import multiprocessing as mp\n",
    "import shutil\n",
    "import tempfile\n",
    "#from ipyparallel import Client\n",
    "import scandir\n",
    "import glob\n",
    "from Bio.SeqIO.QualityIO import FastqGeneralIterator\n",
    "import pickle\n",
    "#import Levenshtein as lv"
   ]
  },
  {
   "cell_type": "code",
   "execution_count": 5,
   "metadata": {},
   "outputs": [],
   "source": [
    "ent_dir = \"/home/faske/g/balsam/entropy\""
   ]
  },
  {
   "cell_type": "code",
   "execution_count": 6,
   "metadata": {},
   "outputs": [
    {
     "name": "stdout",
     "output_type": "stream",
     "text": [
      "/working/tfaske/balsam/entropy\n"
     ]
    }
   ],
   "source": [
    "cd $ent_dir"
   ]
  },
  {
   "cell_type": "code",
   "execution_count": 7,
   "metadata": {},
   "outputs": [
    {
     "data": {
      "text/plain": [
       "'good_snps.recode.vcf'"
      ]
     },
     "execution_count": 7,
     "metadata": {},
     "output_type": "execute_result"
    }
   ],
   "source": [
    "vcf = 'good_snps.recode.vcf'\n",
    "vcf"
   ]
  },
  {
   "cell_type": "code",
   "execution_count": 8,
   "metadata": {},
   "outputs": [],
   "source": [
    "perl_mpgl = '/home/faske/g/perl_scripts/vcf2mpglV1.3TLP.pl'\n",
    "perl_mean = '/home/faske/g/perl_scripts/gl2genestV1.3.pl'"
   ]
  },
  {
   "cell_type": "code",
   "execution_count": 9,
   "metadata": {},
   "outputs": [
    {
     "name": "stdout",
     "output_type": "stream",
     "text": [
      "Number of loci: 38103; number of individuals 364\r\n"
     ]
    }
   ],
   "source": [
    "!perl $perl_mpgl $vcf"
   ]
  },
  {
   "cell_type": "code",
   "execution_count": 10,
   "metadata": {},
   "outputs": [],
   "source": [
    "mpgl = 'good_snps.recode.mpgl'"
   ]
  },
  {
   "cell_type": "code",
   "execution_count": 11,
   "metadata": {},
   "outputs": [],
   "source": [
    "!perl $perl_mean $mpgl mean"
   ]
  },
  {
   "cell_type": "code",
   "execution_count": 12,
   "metadata": {},
   "outputs": [],
   "source": [
    "%load_ext rpy2.ipython"
   ]
  },
  {
   "cell_type": "code",
   "execution_count": 14,
   "metadata": {},
   "outputs": [],
   "source": [
    "%%R\n",
    "require(readr)\n",
    "require(MASS)\n",
    "require(LEA)\n",
    "require(ggplot2)\n",
    "\n",
    "source('/home/faske/g/src/R/Imports.R')\n",
    "\n",
    "setwd('/home/faske/g/balsam/entropy')"
   ]
  },
  {
   "cell_type": "code",
   "execution_count": 15,
   "metadata": {},
   "outputs": [
    {
     "data": {
      "text/plain": [
       "[1] 38103   364\n"
      ]
     },
     "metadata": {},
     "output_type": "display_data"
    }
   ],
   "source": [
    "%%R\n",
    "g <- read.table(\"pntest_mean_good_snps.recode.txt\", header=F)\n",
    "dim(g)"
   ]
  },
  {
   "cell_type": "code",
   "execution_count": 16,
   "metadata": {},
   "outputs": [
    {
     "data": {
      "text/plain": [
       "    PC1     PC2     PC3     PC4     PC5 \n",
       "0.08851 0.04491 0.02174 0.01850 0.01353 \n"
      ]
     },
     "metadata": {},
     "output_type": "display_data"
    }
   ],
   "source": [
    "%%R\n",
    "Pop_ID <- read.csv(\"Pop_ID.csv\")\n",
    "pca_df <- PCA_entropy(t(g))"
   ]
  },
  {
   "cell_type": "code",
   "execution_count": 17,
   "metadata": {},
   "outputs": [],
   "source": [
    "%%R\n",
    "#######################################################################################\n",
    "                                    #### LDA ####\n",
    "#######################################################################################\n",
    "\n",
    "k2<-kmeans(pca_df[,1:5],2,iter.max=10,nstart=10,algorithm=\"Hartigan-Wong\")\n",
    "k3<-kmeans(pca_df[,1:5],3,iter.max=10,nstart=10,algorithm=\"Hartigan-Wong\")\n",
    "k4<-kmeans(pca_df[,1:5],4,iter.max=10,nstart=10,algorithm=\"Hartigan-Wong\")\n",
    "k5<-kmeans(pca_df[,1:5],5,iter.max=10,nstart=10,algorithm=\"Hartigan-Wong\")\n",
    "k6<-kmeans(pca_df[,1:5],6,iter.max=10,nstart=10,algorithm=\"Hartigan-Wong\")\n",
    "k7<-kmeans(pca_df[,1:5],7,iter.max=10,nstart=10,algorithm=\"Hartigan-Wong\")\n",
    "k8<-kmeans(pca_df[,1:5],8,iter.max=10,nstart=10,algorithm=\"Hartigan-Wong\")\n",
    "k9<-kmeans(pca_df[,1:5],9,iter.max=10,nstart=10,algorithm=\"Hartigan-Wong\")\n",
    "k10<-kmeans(pca_df[,1:5],10,iter.max=10,nstart=10,algorithm=\"Hartigan-Wong\")\n",
    "\n",
    "ldak2<-lda(x=pca_df[,1:5],grouping=k2$cluster,CV=TRUE)\n",
    "ldak3<-lda(x=pca_df[,1:5],grouping=k3$cluster,CV=TRUE)\n",
    "ldak4<-lda(x=pca_df[,1:5],grouping=k4$cluster,CV=TRUE)\n",
    "ldak5<-lda(x=pca_df[,1:5],grouping=k5$cluster,CV=TRUE)\n",
    "ldak6<-lda(x=pca_df[,1:5],grouping=k6$cluster,CV=TRUE)\n",
    "ldak7<-lda(x=pca_df[,1:5],grouping=k7$cluster,CV=TRUE)\n",
    "ldak8<-lda(x=pca_df[,1:5],grouping=k8$cluster,CV=TRUE)\n",
    "ldak9<-lda(x=pca_df[,1:5],grouping=k9$cluster,CV=TRUE)\n",
    "ldak10<-lda(x=pca_df[,1:5],grouping=k10$cluster,CV=TRUE)\n",
    "\n",
    "write.table(round(ldak2$posterior,5),file=\"ldak2.txt\",quote=F,row.names=F,col.names=F)\n",
    "write.table(round(ldak3$posterior,5),file=\"ldak3.txt\",quote=F,row.names=F,col.names=F)\n",
    "write.table(round(ldak4$posterior,5),file=\"ldak4.txt\",quote=F,row.names=F,col.names=F)\n",
    "write.table(round(ldak5$posterior,5),file=\"ldak5.txt\",quote=F,row.names=F,col.names=F)\n",
    "write.table(round(ldak6$posterior,5),file=\"ldak6.txt\",quote=F,row.names=F,col.names=F)                                      \n",
    "write.table(round(ldak7$posterior,5),file=\"ldak7.txt\",quote=F,row.names=F,col.names=F)\n",
    "write.table(round(ldak8$posterior,5),file=\"ldak8.txt\",quote=F,row.names=F,col.names=F)\n",
    "write.table(round(ldak9$posterior,5),file=\"ldak9.txt\",quote=F,row.names=F,col.names=F)\n",
    "write.table(round(ldak10$posterior,5),file=\"ldak10.txt\",quote=F,row.names=F,col.names=F)"
   ]
  },
  {
   "cell_type": "code",
   "execution_count": 18,
   "metadata": {},
   "outputs": [
    {
     "data": {
      "text/plain": [
       "[1] 38103   364\n"
      ]
     },
     "metadata": {},
     "output_type": "display_data"
    }
   ],
   "source": [
    "%%R\n",
    "######### create entropy header ####\n",
    "\n",
    "Sp_Pop_list <- paste('PR',Pop_ID$Pop,sep='_')\n",
    "Pop_ID_list <- paste(Pop_ID$Pop,Pop_ID$ID,sep='_')\n",
    "\n",
    "Header <- data.frame(dims = NA, Sp_Pop_list,Pop_ID_list)\n",
    "\n",
    "dim(g)"
   ]
  },
  {
   "cell_type": "code",
   "execution_count": 19,
   "metadata": {},
   "outputs": [],
   "source": [
    "%%R\n",
    "df <- t(Header)\n",
    "dims <- paste(dim(g)[2],dim(g)[1],\"1\",sep = \" \")\n",
    "df[1,1] <- dims\n",
    "df\n",
    "write.table(df,'entropy_header.txt',sep = \" \",na =\"\",\n",
    "            quote = FALSE,row.names = FALSE,col.names = FALSE)\n"
   ]
  },
  {
   "cell_type": "code",
   "execution_count": 20,
   "metadata": {},
   "outputs": [
    {
     "name": "stdout",
     "output_type": "stream",
     "text": [
      "364 38103 1                                                                                                                                                                                                                                                                                                                                                                           \r\n",
      "PR_AN PR_AN PR_AN PR_AN PR_AN PR_AN PR_AN PR_AN PR_AN PR_AN PR_AN PR_AN PR_AS PR_AS PR_AS PR_AS PR_AS PR_AS PR_AS PR_AS PR_AS PR_AS PR_AS PR_BB PR_BB PR_BB PR_BB PR_BB PR_BB PR_BB PR_BB PR_BB PR_BB PR_BB PR_BB PR_BH PR_BH PR_BH PR_BH PR_BH PR_BH PR_BH PR_BH PR_BH PR_BH PR_BH PR_BH PR_CC PR_CC PR_CC PR_CC PR_CC PR_CC PR_CC PR_CC PR_CC PR_CC PR_CC PR_CC PR_CF PR_CF PR_CF PR_CF PR_CF PR_CF PR_CF PR_CF PR_CF PR_CL PR_CL PR_CL PR_CL PR_CL PR_CL PR_CL PR_CL PR_CL PR_CL PR_CL PR_CL PR_CN PR_CN PR_CN PR_CN PR_CN PR_CN PR_CN PR_CN PR_CN PR_CN PR_CN PR_CN PR_EC PR_EC PR_EC PR_EC PR_EC PR_EC PR_EC PR_EC PR_EC PR_EC PR_EC PR_EC PR_GA PR_GA PR_GA PR_GA PR_GA PR_GA PR_GA PR_GA PR_GA PR_GA PR_GA PR_GB PR_GB PR_GB PR_GB PR_GB PR_GB PR_GB PR_GB PR_GB PR_GB PR_GB PR_GB PR_GJ PR_GJ PR_GJ PR_GJ PR_GJ PR_GJ PR_GJ PR_GJ PR_GJ PR_GJ PR_GJ PR_GJ PR_JV PR_JV PR_JV PR_JV PR_JV PR_JV PR_JV PR_JV PR_JV PR_JV PR_JV PR_JV PR_KA PR_KA PR_KA PR_KA PR_KA PR_KA PR_KA PR_KA PR_KA PR_KB PR_KB PR_KB PR_KB PR_KB PR_KB PR_KB PR_KB PR_KB PR_KB PR_KB PR_KB PR_KB PR_KB PR_KM PR_KM PR_KM PR_KM PR_KM PR_KM PR_KM PR_KM PR_LC PR_LC PR_LC PR_LC PR_LC PR_LC PR_LC PR_LC PR_LC PR_LC PR_LC PR_LC PR_LL PR_LL PR_LL PR_LL PR_LL PR_LL PR_LL PR_LL PR_LL PR_LL PR_LM PR_LM PR_LM PR_LM PR_LM PR_LM PR_LM PR_LM PR_LM PR_LM PR_LM PR_LM PR_MM PR_MM PR_MM PR_MM PR_MM PR_MM PR_MM PR_MM PR_MM PR_MM PR_MM PR_MM PR_MT PR_MT PR_MT PR_MT PR_MT PR_MT PR_MT PR_MT PR_MT PR_MT PR_MT PR_MT PR_QG PR_QG PR_QG PR_QG PR_QG PR_QG PR_QG PR_QG PR_QG PR_QG PR_QG PR_QG PR_RC PR_RC PR_RC PR_RC PR_RC PR_RC PR_RC PR_RC PR_RC PR_RC PR_RC PR_RL PR_RL PR_RL PR_RL PR_RL PR_RL PR_RL PR_RL PR_RL PR_RL PR_RL PR_RL PR_RP PR_RP PR_RP PR_RP PR_RP PR_RP PR_RP PR_RP PR_RP PR_RP PR_RP PR_SC PR_SC PR_SC PR_SC PR_SC PR_SC PR_SC PR_SC PR_SC PR_SC PR_SC PR_SC PR_SD PR_SD PR_SD PR_SD PR_SD PR_SD PR_SD PR_SD PR_SD PR_SD PR_SD PR_SD PR_SL PR_SL PR_SL PR_SL PR_SL PR_SL PR_SL PR_SL PR_SL PR_SL PR_SL PR_SP PR_SP PR_SP PR_SP PR_SP PR_SP PR_SP PR_SP PR_SP PR_SY PR_SY PR_SY PR_SY PR_SY PR_SY PR_SY PR_SY PR_SY PR_SY PR_SY PR_SY PR_TM PR_TM PR_TM PR_TM PR_TM PR_TM PR_TM PR_TM PR_TM PR_TM PR_WC PR_WC PR_WC PR_WC PR_WC PR_WC PR_WC PR_WC PR_WC PR_WC PR_WC PR_WC\r\n",
      "AN_10 AN_11 AN_12 AN_1 AN_2 AN_3 AN_4 AN_5 AN_6 AN_7 AN_8 AN_9 AS_10 AS_11 AS_12 AS_1 AS_3 AS_4 AS_5 AS_6 AS_7 AS_8 AS_9 BB_10 BB_11 BB_12 BB_1 BB_2 BB_3 BB_4 BB_5 BB_6 BB_7 BB_8 BB_9 BH_10 BH_11 BH_12 BH_1 BH_2 BH_3 BH_4 BH_5 BH_6 BH_7 BH_8 BH_9 CC_10 CC_11 CC_12 CC_1 CC_2 CC_3 CC_4 CC_5 CC_6 CC_7 CC_8 CC_9 CF_11 CF_1 CF_2 CF_3 CF_4 CF_5 CF_7 CF_8 CF_9 CL_10 CL_11 CL_12 CL_1 CL_2 CL_3 CL_4 CL_5 CL_6 CL_7 CL_8 CL_9 CN_10 CN_11 CN_12 CN_1 CN_2 CN_3 CN_4 CN_5 CN_6 CN_7 CN_8 CN_9 EC_10 EC_11 EC_12 EC_1 EC_2 EC_3 EC_4 EC_5 EC_6 EC_7 EC_8 EC_9 GA_10 GA_11 GA_12 GA_1 GA_2 GA_4 GA_5 GA_6 GA_7 GA_8 GA_9 GB_10 GB_11 GB_12 GB_1 GB_2 GB_3 GB_4 GB_5 GB_6 GB_7 GB_8 GB_9 GJ_10 GJ_11 GJ_12 GJ_1 GJ_2 GJ_3 GJ_4 GJ_5 GJ_6 GJ_7 GJ_8 GJ_9 JV_10 JV_11 JV_12 JV_1 JV_2 JV_3 JV_4 JV_5 JV_6 JV_7 JV_8 JV_9 KA_10 KA_11 KA_12 KA_1 KA_3 KA_4 KA_5 KA_6 KA_8 KB_10 KB_11 KB_12 KB_13 KB_14 KB_1 KB_2 KB_3 KB_4 KB_5 KB_6 KB_7 KB_8 KB_9 KM_10 KM_11 KM_2 KM_4 KM_6 KM_7 KM_8 KM_9 LC_10 LC_11 LC_12 LC_1 LC_2 LC_3 LC_4 LC_5 LC_6 LC_7 LC_8 LC_9 LL_10 LL_1 LL_2 LL_3 LL_4 LL_5 LL_6 LL_7 LL_8 LL_9 LM_10 LM_11 LM_12 LM_1 LM_2 LM_3 LM_4 LM_5 LM_6 LM_7 LM_8 LM_9 MM_10 MM_11 MM_12 MM_1 MM_2 MM_3 MM_4 MM_5 MM_6 MM_7 MM_8 MM_9 MT_10 MT_11 MT_12 MT_1 MT_2 MT_3 MT_4 MT_5 MT_6 MT_7 MT_8 MT_9 QG_10 QG_11 QG_12 QG_1 QG_2 QG_3 QG_4 QG_5 QG_6 QG_7 QG_8 QG_9 RC_10 RC_11 RC_12 RC_1 RC_2 RC_3 RC_4 RC_5 RC_6 RC_7 RC_8 RL_10 RL_11 RL_12 RL_1 RL_2 RL_3 RL_4 RL_5 RL_6 RL_7 RL_8 RL_9 RP_10 RP_11 RP_12 RP_1 RP_2 RP_4 RP_5 RP_6 RP_7 RP_8 RP_9 SC_10 SC_11 SC_12 SC_1 SC_2 SC_3 SC_4 SC_5 SC_6 SC_7 SC_8 SC_9 SD_10 SD_11 SD_12 SD_1 SD_2 SD_3 SD_4 SD_5 SD_6 SD_7 SD_8 SD_9 SL_10 SL_11 SL_12 SL_1 SL_2 SL_3 SL_5 SL_6 SL_7 SL_8 SL_9 SP_10 SP_1 SP_2 SP_3 SP_4 SP_5 SP_6 SP_8 SP_9 SY_10 SY_11 SY_12 SY_1 SY_2 SY_3 SY_4 SY_5 SY_6 SY_7 SY_8 SY_9 TM_10 TM_1 TM_2 TM_3 TM_4 TM_5 TM_6 TM_7 TM_8 TM_9 WC_10 WC_11 WC_12 WC_1 WC_2 WC_3 WC_4 WC_5 WC_6 WC_7 WC_8 WC_9\r\n"
     ]
    }
   ],
   "source": [
    "!head entropy_header.txt"
   ]
  },
  {
   "cell_type": "code",
   "execution_count": 21,
   "metadata": {},
   "outputs": [],
   "source": [
    "!cat entropy_header.txt good_snps.recode.mpgl > entropy.mpgl"
   ]
  },
  {
   "cell_type": "code",
   "execution_count": 22,
   "metadata": {},
   "outputs": [
    {
     "name": "stdout",
     "output_type": "stream",
     "text": [
      "/working/tfaske/balsam/entropy\n"
     ]
    }
   ],
   "source": [
    "cd $ent_dir"
   ]
  },
  {
   "cell_type": "code",
   "execution_count": 23,
   "metadata": {},
   "outputs": [],
   "source": [
    "l = 100000\n",
    "b = 30000\n",
    "num_k = [2,3,4,5,6]"
   ]
  },
  {
   "cell_type": "code",
   "execution_count": 24,
   "metadata": {},
   "outputs": [],
   "source": [
    "def write_entropy_sh(l,b,num_k):\n",
    "    with open(\"run_entropy.sh\", \"w\") as o:\n",
    "        o.write(\"\"\"#!/bin/bash\n",
    "#$ -S /bin/bash\n",
    "#$ -cwd\n",
    "#$ -o entropy.out\n",
    "#$ -e entropy.err\n",
    "module load entropy/1.2\\n\\n\\n\"\"\")\n",
    "        \n",
    "#entropy -i entropy.mpgl -o entropy_k3.hdf5 \\\n",
    "#-l 70000 -b 30000 -t 10 -s 20 -e .01 -k 3 -q ldak3.txt -m 1 -w 0 &> k3stdout.txt &\n",
    "#disown -h \n",
    "        for k in num_k:\n",
    "            o.write(\"\"\"entropy -i entropy.mpgl -o entropy_k{2}.hdf5 -l {0} -b {1} -t 10 -s 20 -e .01 -k {2} -q ldak{2}.txt -m 1 -w 0 &> k{2}stdout.txt &\n",
    "disown -h \\n\\n\"\"\".format(l,b,k))"
   ]
  },
  {
   "cell_type": "code",
   "execution_count": 25,
   "metadata": {},
   "outputs": [],
   "source": [
    "write_entropy_sh(l,b,num_k)"
   ]
  },
  {
   "cell_type": "markdown",
   "metadata": {},
   "source": [
    "# Use estpost to get DIC, q, and gprob"
   ]
  },
  {
   "cell_type": "code",
   "execution_count": 62,
   "metadata": {},
   "outputs": [
    {
     "name": "stdout",
     "output_type": "stream",
     "text": [
      "/working/tfaske/piper/retic/entropy\n"
     ]
    }
   ],
   "source": [
    "cd $ent_dir"
   ]
  },
  {
   "cell_type": "code",
   "execution_count": 67,
   "metadata": {},
   "outputs": [
    {
     "data": {
      "text/plain": [
       "['./entropy_k2.hdf5',\n",
       " './entropy_k3.hdf5',\n",
       " './entropy_k4.hdf5',\n",
       " './entropy_k5.hdf5',\n",
       " './entropy_k6.hdf5']"
      ]
     },
     "execution_count": 67,
     "metadata": {},
     "output_type": "execute_result"
    }
   ],
   "source": [
    "hdf5_files = !find . -name '*hdf5'\n",
    "hdf5_files = hdf5_files.sort()\n",
    "hdf5_files"
   ]
  },
  {
   "cell_type": "code",
   "execution_count": 73,
   "metadata": {},
   "outputs": [],
   "source": [
    "!module load entropy/1.2"
   ]
  },
  {
   "cell_type": "code",
   "execution_count": 72,
   "metadata": {},
   "outputs": [],
   "source": [
    "num_k = [2,3,4,5,6]"
   ]
  },
  {
   "cell_type": "markdown",
   "metadata": {},
   "source": [
    "# nvm, figure out later. Run in terminal"
   ]
  },
  {
   "cell_type": "code",
   "execution_count": 71,
   "metadata": {},
   "outputs": [
    {
     "name": "stdout",
     "output_type": "stream",
     "text": [
      "/usr/bin/sh: estpost.entropy: command not found\n",
      "/usr/bin/sh: estpost.entropy: command not found\n",
      "/usr/bin/sh: estpost.entropy: command not found\n",
      "/usr/bin/sh: estpost.entropy: command not found\n",
      "/usr/bin/sh: estpost.entropy: command not found\n"
     ]
    }
   ],
   "source": [
    "#make DIC\n",
    "for i in range(0,len(hdf5_files)):\n",
    "    k = num_k[i]\n",
    "    f = hdf5_files[i]\n",
    "    dic = \"DIC_k%d.txt\" % (k)\n",
    "    !estpost.entropy $f -s 3 -p deviance > $dic\n"
   ]
  },
  {
   "cell_type": "code",
   "execution_count": 77,
   "metadata": {},
   "outputs": [
    {
     "data": {
      "text/plain": [
       "['./DIC_k2.txt',\n",
       " './DIC_k3.txt',\n",
       " './DIC_k4.txt',\n",
       " './DIC_k5.txt',\n",
       " './DIC_k6.txt']"
      ]
     },
     "execution_count": 77,
     "metadata": {},
     "output_type": "execute_result"
    }
   ],
   "source": [
    "dic_files = !find . -name 'DIC*'\n",
    "dic_files"
   ]
  },
  {
   "cell_type": "code",
   "execution_count": 79,
   "metadata": {},
   "outputs": [
    {
     "name": "stdout",
     "output_type": "stream",
     "text": [
      "file = entropy_k2.hdf5\n",
      "parameter dimensions for deviance: samples = 7000, chains = 1\n",
      "Model deviance: 3770153.62\n",
      "Effective number of parameters: 1724916.16\n",
      "Model DIC: 5495069.78\n",
      "\n",
      "\n",
      "file = entropy_k3.hdf5\n",
      "parameter dimensions for deviance: samples = 7000, chains = 1\n",
      "Model deviance: 3691381.34\n",
      "Effective number of parameters: 1891442.59\n",
      "Model DIC: 5582823.93\n",
      "\n",
      "\n",
      "file = entropy_k4.hdf5\n",
      "parameter dimensions for deviance: samples = 7000, chains = 1\n",
      "Model deviance: 3609734.37\n",
      "Effective number of parameters: 2097108.35\n",
      "Model DIC: 5706842.72\n",
      "\n",
      "\n",
      "file = entropy_k5.hdf5\n",
      "parameter dimensions for deviance: samples = 7000, chains = 1\n",
      "Model deviance: 3545331.26\n",
      "Effective number of parameters: 2393933.78\n",
      "Model DIC: 5939265.04\n",
      "\n",
      "\n",
      "file = entropy_k6.hdf5\n",
      "parameter dimensions for deviance: samples = 7000, chains = 1\n",
      "Model deviance: 3416931.82\n",
      "Effective number of parameters: 211269059.98\n",
      "Model DIC: 214685991.80\n",
      "\n",
      "\n"
     ]
    }
   ],
   "source": [
    "for d in dic_files:\n",
    "    !cat $d\n",
    "    print('\\n')"
   ]
  },
  {
   "cell_type": "code",
   "execution_count": null,
   "metadata": {},
   "outputs": [],
   "source": []
  }
 ],
 "metadata": {
  "kernelspec": {
   "display_name": "Python 3",
   "language": "python",
   "name": "python3"
  },
  "language_info": {
   "codemirror_mode": {
    "name": "ipython",
    "version": 3
   },
   "file_extension": ".py",
   "mimetype": "text/x-python",
   "name": "python",
   "nbconvert_exporter": "python",
   "pygments_lexer": "ipython3",
   "version": "3.6.7"
  }
 },
 "nbformat": 4,
 "nbformat_minor": 2
}
